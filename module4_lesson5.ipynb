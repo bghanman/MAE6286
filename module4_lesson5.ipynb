{
 "cells": [
  {
   "cell_type": "markdown",
   "metadata": {},
   "source": [
    "# Crank-Nicolson Scheme"
   ]
  },
  {
   "cell_type": "code",
   "execution_count": 2,
   "metadata": {},
   "outputs": [],
   "source": [
    "#Use the implicit parabolic PDE Crank-Nicolson Scheme"
   ]
  },
  {
   "cell_type": "code",
   "execution_count": 9,
   "metadata": {},
   "outputs": [],
   "source": [
    "#import necessary \n",
    "import numpy\n",
    "from matplotlib import pyplot\n",
    "from scipy import linalg\n",
    "%matplotlib inline"
   ]
  },
  {
   "cell_type": "code",
   "execution_count": 10,
   "metadata": {},
   "outputs": [],
   "source": [
    "#parameter setup\n",
    "L = 1.0\n",
    "nx = 21\n",
    "dx = L / (nx - 1)\n",
    "alpha = 1.22e-3\n",
    "q = 0.0 #temp gradient\n",
    "\n",
    "#define x\n",
    "x = numpy.linspace(0.0, L, num = nx)\n",
    "\n",
    "T0 = numpy.zeros(nx)\n",
    "T0[0] = 100.0\n"
   ]
  },
  {
   "cell_type": "code",
   "execution_count": 11,
   "metadata": {},
   "outputs": [],
   "source": [
    "def lhs_operator(N, sigma):\n",
    "    \"\"\"Compute left hand side\"\"\"\n",
    "    #diagonal of the operator\n",
    "    D = numpy.diag(2.0 * (1.0 + 1.0 / sigma) * numpy.ones(N))\n",
    "    D[-1, -1] = 1.0 + 2.0 / sigma \n",
    "    #upper and lower\n",
    "    U = numpy.diag(-1 * numpy.ones(N - 1), k = 1)\n",
    "    L = numpy.diag(-1 * numpy.ones(N - 1), k = -1)\n",
    "    #assembly\n",
    "    lhs = D + U + L\n",
    "    return lhs"
   ]
  },
  {
   "cell_type": "code",
   "execution_count": 12,
   "metadata": {},
   "outputs": [],
   "source": [
    "def rhs_vector(T, sigma, qdx):\n",
    "    \"\"\"Compute right hand side\"\"\"\n",
    "    b = T[:-2] + 2.0 * (1.0 / sigma - 1.0) * T[1:-1] + T[2:]\n",
    "    b[0] += T[0] #D-condition\n",
    "    b[-1] += qdx\n",
    "    return b"
   ]
  },
  {
   "cell_type": "code",
   "execution_count": 13,
   "metadata": {},
   "outputs": [],
   "source": [
    "def c_n(T0, nt, dt, dx, alpha, q=0):\n",
    "    \"\"\"Define crank-nicolson solution mechanism\"\"\"\n",
    "    sigma = alpha * dt / dx**2\n",
    "    A = lhs_operator(len(T0) - 2, sigma)\n",
    "    T = T0.copy()\n",
    "    for n in range(nt):\n",
    "        #gen rhs\n",
    "        b = rhs_vector(T, sigma, q * dx)\n",
    "        #generator new T\n",
    "        T[1:-1] = linalg.solve(A,b)\n",
    "        #neumann BC\n",
    "        T[-1] = T[-2] + q * dx\n",
    "    return T"
   ]
  },
  {
   "cell_type": "code",
   "execution_count": 14,
   "metadata": {},
   "outputs": [],
   "source": [
    "sigma = 0.5\n",
    "dt = sigma * dx**2 / alpha \n",
    "nt = 10\n",
    "\n",
    "T = c_n(T0, nt, dt, dx, alpha, q)"
   ]
  },
  {
   "cell_type": "code",
   "execution_count": 15,
   "metadata": {},
   "outputs": [
    {
     "data": {
      "text/plain": [
       "(0.0, 100.0)"
      ]
     },
     "execution_count": 15,
     "metadata": {},
     "output_type": "execute_result"
    },
    {
     "data": {
      "image/png": "[encoded data removed]",
      "text/plain": [
       "<Figure size 432x288 with 1 Axes>"
      ]
     },
     "metadata": {
      "needs_background": "light"
     },
     "output_type": "display_data"
    }
   ],
   "source": [
    "pyplot.figure()\n",
    "pyplot.xlabel('Distance [m]')\n",
    "pyplot.ylabel('Temperature [C]')\n",
    "pyplot.grid()\n",
    "pyplot.plot(x, T)\n",
    "pyplot.xlim(0.0, L)\n",
    "pyplot.ylim(0.0, 100.0)"
   ]
  },
  {
   "cell_type": "code",
   "execution_count": 20,
   "metadata": {},
   "outputs": [],
   "source": [
    "def ana_temp(x, t, alpha, L, N):\n",
    "    \"\"\"compute close to exact temperature\"\"\"\n",
    "    T = 100.0 * numpy.ones_like(x)\n",
    "    for n in range(1, N + 1):\n",
    "        k = (2 * n - 1) * numpy.pi / (2.0 * L)\n",
    "        T -= (400.0 / (2.0 * L * k) * \n",
    "             numpy.sin(k * x) * numpy.exp(- alpha * k**2 * t))\n",
    "        \n",
    "    return T"
   ]
  },
  {
   "cell_type": "code",
   "execution_count": 21,
   "metadata": {},
   "outputs": [],
   "source": [
    "T_ex = ana_temp(x, nt * dt, alpha, L, 100)"
   ]
  },
  {
   "cell_type": "code",
   "execution_count": 25,
   "metadata": {},
   "outputs": [
    {
     "data": {
      "image/png": "[encoded data removed]",
      "text/plain": [
       "<Figure size 432x288 with 1 Axes>"
      ]
     },
     "metadata": {
      "needs_background": "light"
     },
     "output_type": "display_data"
    }
   ],
   "source": [
    "pyplot.figure()\n",
    "pyplot.xlabel('Distance [m]')\n",
    "pyplot.ylabel('Temperature [C]')\n",
    "pyplot.grid()\n",
    "pyplot.plot(x, T, label='numerical')\n",
    "pyplot.plot(x, T_ex, label='exact', linestyle='--')\n",
    "pyplot.xlim(0.0, L)\n",
    "pyplot.ylim(0.0, 100.0)\n",
    "pyplot.legend();"
   ]
  },
  {
   "cell_type": "markdown",
   "metadata": {},
   "source": [
    "# convergence"
   ]
  },
  {
   "cell_type": "code",
   "execution_count": 27,
   "metadata": {},
   "outputs": [],
   "source": [
    "def l2_error(T, T_ex):\n",
    "    \"\"\"compute L2 norm\"\"\"\n",
    "    error = numpy.sqrt(numpy.sum((T - T_ex)**2) / \n",
    "                      numpy.sum(T_ex**2))\n",
    "    return error"
   ]
  },
  {
   "cell_type": "code",
   "execution_count": 31,
   "metadata": {},
   "outputs": [],
   "source": [
    "#just going to copy and paste the previous implicit method\n",
    "def lhs_operator_btcs(N, sigma):\n",
    "    \"\"\"\n",
    "    Computes and returns the implicit operator\n",
    "    of the system for the 1D diffusion equation.\n",
    "    We use backward Euler method, Dirichlet condition\n",
    "    on the left side of the domain and zero-gradient\n",
    "    Neumann condition on the right side.\n",
    "    \n",
    "    Parameters\n",
    "    ----------\n",
    "    N : integer\n",
    "        Number of interior points.\n",
    "    sigma : float\n",
    "        Value of alpha * dt / dx**2.\n",
    "    \n",
    "    Returns\n",
    "    -------\n",
    "    A : numpy.ndarray\n",
    "        The implicit operator as a 2D array of floats\n",
    "        of size N by N.\n",
    "    \"\"\"\n",
    "    # Setup the diagonal of the operator.\n",
    "    D = numpy.diag((2.0 + 1.0 / sigma) * numpy.ones(N))\n",
    "    # Setup the Neumann condition for the last element.\n",
    "    D[-1, -1] = 1.0 + 1.0 / sigma\n",
    "    # Setup the upper diagonal of the operator.\n",
    "    U = numpy.diag(-1.0 * numpy.ones(N - 1), k=1)\n",
    "    # Setup the lower diagonal of the operator.\n",
    "    L = numpy.diag(-1.0 * numpy.ones(N - 1), k=-1)\n",
    "    # Assemble the operator.\n",
    "    A = D + U + L\n",
    "    return A"
   ]
  },
  {
   "cell_type": "code",
   "execution_count": 29,
   "metadata": {},
   "outputs": [],
   "source": [
    "def rhs_vector_btcs(T, sigma, qdx):\n",
    "    \"\"\"\n",
    "    Computes and returns the right-hand side of the system\n",
    "    for the 1D diffusion equation, using a Dirichlet condition\n",
    "    on the left side and a Neumann condition on the right side.\n",
    "    \n",
    "    Parameters\n",
    "    ----------\n",
    "    T : numpy.ndarray\n",
    "        The temperature distribution as a 1D array of floats.\n",
    "    sigma : float\n",
    "        Value of alpha * dt / dx**2.\n",
    "    qdx : float\n",
    "        Value of the temperature flux at the right side.\n",
    "    \n",
    "    Returns\n",
    "    -------\n",
    "    b : numpy.ndarray\n",
    "        The right-hand side of the system as a 1D array of floats.\n",
    "    \"\"\"\n",
    "    b = T[1:-1] / sigma\n",
    "    # Set Dirichlet condition.\n",
    "    b[0] += T[0]\n",
    "    # Set Neumann condition.\n",
    "    b[-1] += qdx\n",
    "    return b"
   ]
  },
  {
   "cell_type": "code",
   "execution_count": 30,
   "metadata": {},
   "outputs": [],
   "source": [
    "def btcs_implicit(T0, nt, dt, dx, alpha, q):\n",
    "    \"\"\"\n",
    "    Computes and returns the temperature along the rod\n",
    "    after a given number of time steps.\n",
    "    \n",
    "    The function uses Euler implicit in time,\n",
    "    central differencing in space, a Dirichlet condition\n",
    "    on the left side, and a Neumann condition on the\n",
    "    right side.\n",
    "    \n",
    "    Parameters\n",
    "    ----------\n",
    "    T0 : numpy.ndarray\n",
    "        The initial temperature distribution\n",
    "        as a 1D array of floats.\n",
    "    nt : integer\n",
    "        Number of time steps to compute.\n",
    "    dt : float\n",
    "        Time-step size.\n",
    "    dx : float\n",
    "        Distance between two consecutive locations.\n",
    "    alpha : float\n",
    "        Thermal diffusivity of the rod.\n",
    "    q : float\n",
    "        Value of the temperature gradient on the right side.\n",
    "    \n",
    "    Returns\n",
    "    -------\n",
    "    T : numpy.ndarray\n",
    "        The temperature distribution as a 1D array of floats.\n",
    "    \"\"\"\n",
    "    sigma = alpha * dt / dx**2\n",
    "    # Create the implicit operator of the system.\n",
    "    A = lhs_operator_btcs(len(T0) - 2, sigma)\n",
    "    # Integrate in time.\n",
    "    T = T0.copy()\n",
    "    for n in range(nt):\n",
    "        # Generate the right-hand side of the system.\n",
    "        b = rhs_vector_btcs(T, sigma, q * dx)\n",
    "        # Solve the system with scipy.linalg.solve.\n",
    "        T[1:-1] = linalg.solve(A, b)\n",
    "        # Apply the Neumann boundary condition.\n",
    "        T[-1] = T[-2] + q * dx\n",
    "    return T"
   ]
  },
  {
   "cell_type": "code",
   "execution_count": 32,
   "metadata": {},
   "outputs": [],
   "source": [
    "# new parameters\n",
    "nx = 1001\n",
    "dx = L / (nx - 1)\n",
    "\n",
    "x = numpy.linspace(0.0, L, num = nx)\n",
    "\n",
    "dt_values = [1.0, 0.5, 0.25, 0.125] #different time step values\n",
    "errors = []\n",
    "errors_btcs = []\n",
    "\n",
    "t0 = 1.0\n",
    "T0 = ana_temp(x, t0, alpha, L, 100)\n",
    "t = 10.0\n",
    "T_exact = ana_temp(x, t, alpha, L, 100)\n",
    "\n",
    "#compute errors\n",
    "for dt in dt_values:\n",
    "    nt = int((t - t0) / dt)\n",
    "    T = c_n(T0, nt, dt, dx, alpha, q)\n",
    "    errors.append(l2_error(T, T_exact))\n",
    "    T = btcs_implicit(T0, nt, dt, dx, alpha, q)\n",
    "    errors_btcs.append(l2_error(T, T_exact))"
   ]
  },
  {
   "cell_type": "code",
   "execution_count": 34,
   "metadata": {},
   "outputs": [
    {
     "data": {
      "image/png": "[encoded data removed]",
      "text/plain": [
       "<Figure size 432x288 with 1 Axes>"
      ]
     },
     "metadata": {
      "needs_background": "light"
     },
     "output_type": "display_data"
    }
   ],
   "source": [
    "pyplot.figure()\n",
    "pyplot.grid()\n",
    "pyplot.xlabel('delta t')\n",
    "pyplot.ylabel('relate L2-norm error')\n",
    "pyplot.loglog(dt_values, errors, label='Crank-Nicolson')\n",
    "pyplot.loglog(dt_values, errors_btcs, label='BTCS (implicit)')\n",
    "pyplot.legend()\n",
    "pyplot.axis('equal');"
   ]
  },
  {
   "cell_type": "code",
   "execution_count": 35,
   "metadata": {},
   "outputs": [
    {
     "data": {
      "text/plain": [
       "[0.0005562525604218807,\n",
       " 0.0001374575644790147,\n",
       " 3.2851704285184806e-05,\n",
       " 6.77164746861153e-06]"
      ]
     },
     "execution_count": 35,
     "metadata": {},
     "output_type": "execute_result"
    }
   ],
   "source": [
    "errors"
   ]
  },
  {
   "cell_type": "code",
   "execution_count": 36,
   "metadata": {},
   "outputs": [],
   "source": [
    "#for each drop by half in time step size, decrease in step by 4. second order in time"
   ]
  },
  {
   "cell_type": "code",
   "execution_count": 44,
   "metadata": {},
   "outputs": [],
   "source": [
    "dt = 0.1\n",
    "t = 1000.0\n",
    "nt = int(t / dt)\n",
    "\n",
    "nx_values = [11, 21, 41, 81, 161]\n",
    "errors = []\n",
    "\n",
    "for nx in nx_values:\n",
    "    dx = L / (nx - 1)\n",
    "    x = numpy.linspace(0.0, L, num=nx)\n",
    "    T0 = numpy.zeros(nx)\n",
    "    T0[0] = 100.0\n",
    "    T = c_n(T0, nt, dt, dx, alpha, q)\n",
    "    T_exact = ana_temp(x, t, alpha, L, 100)\n",
    "    errors.append(l2_error(T, T_exact))"
   ]
  },
  {
   "cell_type": "code",
   "execution_count": 45,
   "metadata": {},
   "outputs": [
    {
     "data": {
      "image/png": "[encoded data removed]",
      "text/plain": [
       "<Figure size 432x432 with 1 Axes>"
      ]
     },
     "metadata": {
      "needs_background": "light"
     },
     "output_type": "display_data"
    }
   ],
   "source": [
    "pyplot.figure(figsize=(6.0, 6.0))\n",
    "pyplot.grid()\n",
    "pyplot.xlabel('delta x')\n",
    "pyplot.ylabel('relate L2-norm error')\n",
    "dx_values = L / (numpy.array(nx_values) - 1)\n",
    "pyplot.loglog(dx_values, errors, label='Crank-Nicolson')\n",
    "pyplot.legend()\n",
    "pyplot.axis('equal');"
   ]
  },
  {
   "cell_type": "code",
   "execution_count": 46,
   "metadata": {},
   "outputs": [
    {
     "data": {
      "text/plain": [
       "[0.011922719076357141,\n",
       " 0.00618159385979057,\n",
       " 0.0031426643071902106,\n",
       " 0.0015838621626873492,\n",
       " 0.0007950070915367742]"
      ]
     },
     "execution_count": 46,
     "metadata": {},
     "output_type": "execute_result"
    }
   ],
   "source": [
    "errors"
   ]
  },
  {
   "cell_type": "code",
   "execution_count": 47,
   "metadata": {},
   "outputs": [],
   "source": [
    "#boundary condition impacts the convergence"
   ]
  },
  {
   "cell_type": "code",
   "execution_count": null,
   "metadata": {},
   "outputs": [],
   "source": []
  }
 ],
 "metadata": {
  "kernelspec": {
   "display_name": "Python 3",
   "language": "python",
   "name": "python3"
  },
  "language_info": {
   "codemirror_mode": {
    "name": "ipython",
    "version": 3
   },
   "file_extension": ".py",
   "mimetype": "text/x-python",
   "name": "python",
   "nbconvert_exporter": "python",
   "pygments_lexer": "ipython3",
   "version": "3.7.3"
  }
 },
 "nbformat": 4,
 "nbformat_minor": 2
}
