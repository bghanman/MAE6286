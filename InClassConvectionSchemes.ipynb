{
 "cells": [
  {
   "cell_type": "markdown",
   "metadata": {},
   "source": [
    "# Use Lax-Friedrichs, Lax-Wedroff, and MacCormack"
   ]
  },
  {
   "cell_type": "code",
   "execution_count": 88,
   "metadata": {},
   "outputs": [],
   "source": [
    "import numpy\n",
    "from matplotlib import pyplot\n",
    "import ipywidgets\n",
    "\n",
    "%matplotlib inline"
   ]
  },
  {
   "cell_type": "code",
   "execution_count": 170,
   "metadata": {},
   "outputs": [],
   "source": [
    "def rho_red_light(x, rho_max):\n",
    "    \"\"\"Compute red light initial conditions with the shock\n",
    "    \n",
    "    x : location on the road\n",
    "    rho_max : maximum traffic density\n",
    "    \n",
    "    return rho : initial car density on the road\"\"\"\n",
    "    \n",
    "    rho = rho_max * numpy.ones_like(x)\n",
    "    # or rho = numpy.full_like(x, rho_max)\n",
    "    mask = numpy.where(x < 3.0)\n",
    "    rho[mask] = 0.45 * rho_max\n",
    "    # or rho[mask] /= 2\n",
    "    \n",
    "    return rho"
   ]
  },
  {
   "cell_type": "code",
   "execution_count": 171,
   "metadata": {},
   "outputs": [],
   "source": [
    "#Set parameters bruh\n",
    "nx = 81 #number of locations on the road\n",
    "L = 4.0 #length of the road\n",
    "dx = L / (nx -1) #distance between locations\n",
    "nt = 40 #number of time steps\n",
    "sigma = 1.0\n",
    "dt = sigma * dx / u_max #time step size\n",
    "rho_max = 10.0 #maximum allowable traffic density\n",
    "u_max = 1.0 #maximum speed of traffic\n",
    "\n",
    "#Get the road locations\n",
    "x = numpy.linspace(0.0, L, num=nx)\n",
    "\n",
    "#Computer initial traffic density\n",
    "rho0 = rho_red_light(x, rho_max)"
   ]
  },
  {
   "cell_type": "code",
   "execution_count": 172,
   "metadata": {},
   "outputs": [],
   "source": [
    "def plot(n, x, rho_hist):\n",
    "    \"\"\"Plot solution at a given time and compare to initial condtion\"\"\"\n",
    "    \n",
    "    pyplot.figure()\n",
    "    pyplot.plot(x, rho_hist[0], label = 'Initial')\n",
    "    pyplot.plot(x, rho_hist[n], label = 'Current')\n",
    "    pyplot.grid()\n",
    "    pyplot.legend()\n",
    "    pyplot.xlim(0.0, 4.0)\n",
    "    pyplot.ylim(4.0 , 11.0)\n",
    "    pyplot.xlabel('Length on road')\n",
    "    pyplot.ylabel('Density of cars')\n",
    "    pyplot.show()"
   ]
  },
  {
   "cell_type": "code",
   "execution_count": 173,
   "metadata": {},
   "outputs": [],
   "source": [
    "rho_hist = [rho0.copy()]"
   ]
  },
  {
   "cell_type": "code",
   "execution_count": 174,
   "metadata": {},
   "outputs": [],
   "source": [
    "def traffic_flux(rho, u_max, rho_max):\n",
    "    \"\"\"Compute the traffic flux F = V * rho\n",
    "    \n",
    "    rho : traffic density\n",
    "    u_max : max speed\n",
    "    rho_max : max density\n",
    "    \n",
    "    return F\"\"\"\n",
    "    \n",
    "    F = rho * u_max * (1.0 - rho / rho_max)\n",
    "    \n",
    "    return F"
   ]
  },
  {
   "cell_type": "code",
   "execution_count": 175,
   "metadata": {},
   "outputs": [],
   "source": [
    "def traffic_speed(rho, u_max, rho_max):\n",
    "    \"\"\"Compute the traffic speed \n",
    "    \n",
    "    rho : traffic density\n",
    "    u_max : max speed\n",
    "    rho_max : max density\n",
    "    \n",
    "    return F\"\"\"\n",
    "    \n",
    "    F = u_max * (1.0 - rho / rho_max)\n",
    "    \n",
    "    return F"
   ]
  },
  {
   "cell_type": "code",
   "execution_count": 176,
   "metadata": {},
   "outputs": [],
   "source": [
    "def interactive_plot(x, rho_hist):\n",
    "    nt = len(rho_hist) - 1\n",
    "    nt_slider = ipywidgets.IntSlider(value=0, min=0, max=nt, step=1,\n",
    "                                    description='Time Step')\n",
    "    w = ipywidgets.interactive(plot, n=nt_slider,\n",
    "                              x=ipywidgets.fixed(x),\n",
    "                              rho_hist=ipywidgets.fixed(rho_hist))\n",
    "    \n",
    "    return w"
   ]
  },
  {
   "cell_type": "code",
   "execution_count": 178,
   "metadata": {},
   "outputs": [
    {
     "data": {
      "application/vnd.jupyter.widget-view+json": {
       "model_id": "cb8b2f225d9b410d816bdfb3e76eef62",
       "version_major": 2,
       "version_minor": 0
      },
      "text/plain": [
       "interactive(children=(IntSlider(value=0, description='Time Step', max=0), Output()), _dom_classes=('widget-int…"
      ]
     },
     "metadata": {},
     "output_type": "display_data"
    }
   ],
   "source": [
    "interactive_plot(x, rho_hist)"
   ]
  },
  {
   "cell_type": "code",
   "execution_count": 179,
   "metadata": {},
   "outputs": [],
   "source": [
    "def lax_friedrichs(rho0, nt, dt, dx, rho_max, u_max):\n",
    "    \"\"\"Compute traffic density using the lax_friedrichs method\"\"\"\n",
    "    rho_hist = [rho0.copy()]\n",
    "    rho = rho0.copy()\n",
    "    for n in range(nt):\n",
    "        F = traffic_flux(rho, u_max, rho_max) #compute the traffic flux\n",
    "        rho[1:-1] = (0.5 * (rho[2:] + rho[:-2]) - \n",
    "        0.5 * dt / dx * (F[2:] - F[:-2]))\n",
    "        rho_hist.append(rho.copy())\n",
    "    \n",
    "    return rho_hist"
   ]
  },
  {
   "cell_type": "code",
   "execution_count": 180,
   "metadata": {},
   "outputs": [],
   "source": [
    "rho_hist = lax_friedrichs(rho0, nt, dt, dx, rho_max, u_max)"
   ]
  },
  {
   "cell_type": "code",
   "execution_count": 181,
   "metadata": {},
   "outputs": [
    {
     "data": {
      "application/vnd.jupyter.widget-view+json": {
       "model_id": "11468936b55648368a902b187d3e143e",
       "version_major": 2,
       "version_minor": 0
      },
      "text/plain": [
       "interactive(children=(IntSlider(value=0, description='Time Step', max=40), Output()), _dom_classes=('widget-in…"
      ]
     },
     "metadata": {},
     "output_type": "display_data"
    }
   ],
   "source": [
    "interactive_plot(x, rho_hist)"
   ]
  },
  {
   "cell_type": "code",
   "execution_count": 182,
   "metadata": {},
   "outputs": [
    {
     "data": {
      "application/vnd.jupyter.widget-view+json": {
       "model_id": "7e1e39c2cda940d091f4cf1c162e36fa",
       "version_major": 2,
       "version_minor": 0
      },
      "text/plain": [
       "interactive(children=(IntSlider(value=0, description='Time Step', max=40), Output()), _dom_classes=('widget-in…"
      ]
     },
     "metadata": {},
     "output_type": "display_data"
    }
   ],
   "source": [
    "sigma = 1.0\n",
    "dt = sigma * dx / u_max\n",
    "nt = 40\n",
    "rho_hist = lax_friedrichs(rho0, nt, dt, dx, rho_max, u_max)\n",
    "interactive_plot(x, rho_hist)"
   ]
  },
  {
   "cell_type": "code",
   "execution_count": 183,
   "metadata": {},
   "outputs": [],
   "source": [
    "def traffic_jacobian(rho, u_max, rho_max):\n",
    "    \"\"\"Computes the traffic jacobian\"\"\"\n",
    "    \n",
    "    J = u_max * (1.0 - 2.0 * rho / rho_max)\n",
    "    \n",
    "    return J"
   ]
  },
  {
   "cell_type": "code",
   "execution_count": 184,
   "metadata": {},
   "outputs": [],
   "source": [
    "def lax_wendroff(rho0, nt, dt, dx, rho_max, u_max):\n",
    "    \"\"\"Computes traffic density using Lax_Wendroff Technique\"\"\"\n",
    "    rho_hist = [rho0.copy()]\n",
    "    rho = rho0.copy()\n",
    "    for n in range(nt):\n",
    "        F = traffic_flux(rho, u_max, rho_max)\n",
    "        J = traffic_jacobian(rho, u_max, rho_max)\n",
    "        rho[1:-1] = (rho[1:-1] - 0.5 * dt / dx * (F[2:] - F[:-2])\n",
    "                     + 0.25 * dt**2 / dx**2 * ((J[1:-1] + J[2:]) *\n",
    "                                                   (F[2:] - F[1:-1]) -\n",
    "                                                   (J[:-2] + J[1:-1]) *\n",
    "                                                   (F[1:-1] - F[:-2])))\n",
    "        rho_hist.append(rho.copy())\n",
    "    \n",
    "    return rho_hist\n",
    "                                                   "
   ]
  },
  {
   "cell_type": "code",
   "execution_count": 185,
   "metadata": {},
   "outputs": [],
   "source": [
    "rho_hist = lax_wendroff(rho0, nt, dt, dx, rho_max, u_max)"
   ]
  },
  {
   "cell_type": "code",
   "execution_count": 186,
   "metadata": {},
   "outputs": [
    {
     "data": {
      "application/vnd.jupyter.widget-view+json": {
       "model_id": "ee54a5deebd34f459f06b724def43671",
       "version_major": 2,
       "version_minor": 0
      },
      "text/plain": [
       "interactive(children=(IntSlider(value=0, description='Time Step', max=40), Output()), _dom_classes=('widget-in…"
      ]
     },
     "metadata": {},
     "output_type": "display_data"
    }
   ],
   "source": [
    "interactive_plot(x, rho_hist)"
   ]
  },
  {
   "cell_type": "code",
   "execution_count": 187,
   "metadata": {},
   "outputs": [],
   "source": [
    "def maccormack(rho0, nt, dt, dx, rho_max, u_max):\n",
    "    \"\"\"Computes traffic density utilizing the MacCormack method\"\"\"\n",
    "    \n",
    "    rho_hist = [rho0.copy()]\n",
    "    rho = rho0.copy()\n",
    "    rho_temp = rho.copy()\n",
    "    for n in range(nt):\n",
    "        F = traffic_flux(rho, u_max, rho_max)\n",
    "        rho_temp[1:-1] = rho[1:-1] - dt / dx * (F[2:] - F[1:-1])\n",
    "        F = traffic_flux(rho_temp, u_max, rho_max)\n",
    "        rho[1:-1] = 0.5 * ((rho[1:-1] + rho_temp[1:-1]) - \n",
    "                           dt / dx * (F[1:-1] - F[:-2]))\n",
    "                     \n",
    "        rho_hist.append(rho.copy())\n",
    "        \n",
    "    return rho_hist\n",
    "    "
   ]
  },
  {
   "cell_type": "code",
   "execution_count": 188,
   "metadata": {},
   "outputs": [],
   "source": [
    "rho_hist = maccormack(rho0, nt, dt, dx, rho_max, u_max)"
   ]
  },
  {
   "cell_type": "code",
   "execution_count": 189,
   "metadata": {},
   "outputs": [
    {
     "data": {
      "application/vnd.jupyter.widget-view+json": {
       "model_id": "3a5ee24169854c2f939ca4a74fd1b8c2",
       "version_major": 2,
       "version_minor": 0
      },
      "text/plain": [
       "interactive(children=(IntSlider(value=0, description='Time Step', max=40), Output()), _dom_classes=('widget-in…"
      ]
     },
     "metadata": {},
     "output_type": "display_data"
    }
   ],
   "source": [
    "interactive_plot(x, rho_hist)"
   ]
  },
  {
   "cell_type": "markdown",
   "metadata": {},
   "source": [
    "# Even with added \"instability\" via p_init < p_max/2, all three methods work very well."
   ]
  },
  {
   "cell_type": "code",
   "execution_count": null,
   "metadata": {},
   "outputs": [],
   "source": []
  }
 ],
 "metadata": {
  "kernelspec": {
   "display_name": "Python 3",
   "language": "python",
   "name": "python3"
  },
  "language_info": {
   "codemirror_mode": {
    "name": "ipython",
    "version": 3
   },
   "file_extension": ".py",
   "mimetype": "text/x-python",
   "name": "python",
   "nbconvert_exporter": "python",
   "pygments_lexer": "ipython3",
   "version": "3.7.3"
  }
 },
 "nbformat": 4,
 "nbformat_minor": 2
}
