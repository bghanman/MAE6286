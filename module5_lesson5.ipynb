{
 "cells": [
  {
   "cell_type": "markdown",
   "metadata": {},
   "source": [
    "# Module 5 Lesson 5"
   ]
  },
  {
   "cell_type": "code",
   "execution_count": 5,
   "metadata": {},
   "outputs": [],
   "source": [
    "#import libraries\n",
    "import numpy as np\n",
    "from matplotlib import pyplot\n",
    "from helper import l2_norm, poisson_2d_jacobi, poisson_solution\n",
    "import numba\n",
    "from numba import jit\n",
    "\n",
    "%matplotlib inline"
   ]
  },
  {
   "cell_type": "code",
   "execution_count": 6,
   "metadata": {},
   "outputs": [],
   "source": [
    "#Parameter establishment\n",
    "nx, ny = 101, 101 #number of points in x/y\n",
    "xmin, xmax = 0.0, 1.0 #limits in x\n",
    "ymin, ymax = -0.5, 0.5 #limits in y\n",
    "Lx = xmax - xmin #length x\n",
    "Ly = ymax - ymin #length y\n",
    "dx = Lx / (nx - 1) #delta in x\n",
    "dy = Ly / (ny - 1) #delta in y\n",
    "\n",
    "#create mapping\n",
    "x = numpy.linspace(xmin, xmax, num=nx)\n",
    "y = numpy.linspace(ymin, ymax, num=ny)\n",
    "X, Y = numpy.meshgrid(x, y) #create mapping in X/Y\n",
    "\n",
    "#source term\n",
    "b = (-2 * (np.pi / Lx) * (np.pi / Ly) * \n",
    "     np.sin(np.pi * X / Lx) * \n",
    "     np.cos(np.pi * Y / Ly))\n",
    "\n",
    "#Establish initial condition\n",
    "p0 = np.zeros((ny, nx))\n",
    "#Compute exact\n",
    "pe = poisson_solution(x, y, Lx, Ly)"
   ]
  },
  {
   "cell_type": "code",
   "execution_count": 54,
   "metadata": {},
   "outputs": [],
   "source": [
    "def poisson_2d_steepest_descent(p0, b, dx, dy, maxiter=20000, rtol=1e-6):\n",
    "    \"\"\"Solves the 2D Poisson equiation on a uniform grid\n",
    "    utilizing the method of steepest descent\"\"\"\n",
    "    \n",
    "    def A(p):\n",
    "        \"\"\"Apply laplacian operator to p - given that dx = dy\"\"\"\n",
    "        return (-4.0 * p[1:-1, 1:-1] + \n",
    "                p[1:-1, :-2] + p[1:-1, 2:] + \n",
    "                p[:-2, 1:-1] + p[2:, 1:-1]) / dx**2\n",
    "    p = p0.copy()\n",
    "    r = numpy.zeros_like(p)\n",
    "    Ar = numpy.zeros_like(p)\n",
    "    conv = []\n",
    "    diff = rtol + 1\n",
    "    ite = 0\n",
    "    while diff > rtol and ite < maxiter:\n",
    "        pk = p.copy()\n",
    "        #compute residual\n",
    "        r[1:-1, 1:-1] = b[1:-1, 1:-1] - A(p)\n",
    "        #compute laplacian of residual\n",
    "        Ar[1:-1, 1:-1] = A(r)\n",
    "        #compute step size\n",
    "        alpha = np.sum(r * r) / np.sum(r * Ar)\n",
    "        #update solution\n",
    "        p = pk + alpha * r\n",
    "        #dirichlet BC enforced by not changing boundary values\n",
    "        diff = l2_norm(p, pk)\n",
    "        conv.append(diff)\n",
    "        ite += 1\n",
    "    return p, ite, conv"
   ]
  },
  {
   "cell_type": "code",
   "execution_count": 65,
   "metadata": {},
   "outputs": [],
   "source": [
    "p_sd, ite_sd, conv_sd = poisson_2d_steepest_descent(p0, b, dx, dy, \n",
    "                                                     maxiter=20000,\n",
    "                                                     rtol=1e-10)"
   ]
  },
  {
   "cell_type": "code",
   "execution_count": null,
   "metadata": {},
   "outputs": [],
   "source": []
  },
  {
   "cell_type": "code",
   "execution_count": 59,
   "metadata": {},
   "outputs": [],
   "source": [
    "def poisson_2d_conjugate_gradient(p0, b, dx, dy, \n",
    "                                 maxiter=20000,\n",
    "                                 rtol=1e-6):\n",
    "    \"\"\"Solve the poisson 2d problm by utilizing\n",
    "    the conjugate gradient method\"\"\"\n",
    "    def A(p):\n",
    "        \"\"\"Solves the laplacian equation in 2d using the CD method\"\"\"\n",
    "        return (-4 * p[1:-1, 1:-1] + p[1:-1, 2:] + p[1:-1, :-2]\n",
    "               + p[2:, 1:-1] + p[:-2, 1:-1]) / dx**2\n",
    "    p = p0.copy()\n",
    "    r = numpy.zeros_like(p)\n",
    "    rk = numpy.zeros_like(p)\n",
    "    Ad = numpy.zeros_like(p)\n",
    "    conv = []\n",
    "    ites = 0\n",
    "    diff = rtol + 1\n",
    "    #compute initial residual\n",
    "    r[1:-1, 1:-1] = b[1:-1, 1:-1] - A(p)\n",
    "    d = r.copy()\n",
    "    while diff > rtol and ites < maxiter:\n",
    "        pk = p.copy()\n",
    "        rk = r.copy()\n",
    "        Ad[1:-1, 1:-1] = A(d)\n",
    "        alpha = np.sum(r * r) / np.sum(d * Ad)\n",
    "        p = pk + alpha * d\n",
    "        r = rk - alpha * Ad\n",
    "        beta = np.sum(r * r) / np.sum(rk * rk)\n",
    "        d = r + beta * d\n",
    "        diff = l2_norm(p, pk)\n",
    "        conv.append(diff)\n",
    "        ites += 1\n",
    "    return p, ites, conv"
   ]
  },
  {
   "cell_type": "code",
   "execution_count": 60,
   "metadata": {},
   "outputs": [],
   "source": [
    "p_cg, ite_cg, conv_cg = poisson_2d_conjugate_gradient(p0, b, dx, dy, \n",
    "                                                     maxiter=20000,\n",
    "                                                     rtol=1e-10)"
   ]
  },
  {
   "cell_type": "code",
   "execution_count": 71,
   "metadata": {},
   "outputs": [],
   "source": [
    "p_j, ite_j, conv_j = poisson_2d_jacobi(p0, b, dx, dy, \n",
    "                                       maxiter = 40000, rtol=1e-10)"
   ]
  },
  {
   "cell_type": "code",
   "execution_count": 72,
   "metadata": {},
   "outputs": [
    {
     "name": "stdout",
     "output_type": "stream",
     "text": [
      "1.3087029879310584e-16\n",
      "1.3307695446303778e-16\n",
      "9.997923503623598e-11\n"
     ]
    }
   ],
   "source": [
    "print(conv_cg[-1])\n",
    "print(conv_sd[-1])\n",
    "print(conv_j[-1])"
   ]
  },
  {
   "cell_type": "code",
   "execution_count": 73,
   "metadata": {},
   "outputs": [
    {
     "name": "stdout",
     "output_type": "stream",
     "text": [
      "2\n",
      "2\n",
      "31227\n"
     ]
    }
   ],
   "source": [
    "print(ite_cg)\n",
    "print(ite_sd)\n",
    "print(ite_j)"
   ]
  },
  {
   "cell_type": "code",
   "execution_count": 75,
   "metadata": {},
   "outputs": [],
   "source": [
    "b2 = (np.sin(np.pi * X / Lx) * \n",
    "     np.cos(np.pi * Y / Ly) + \n",
    "     np.sin(6.0 * np.pi * X / Lx) * \n",
    "     np.sin(6.0 * np.pi * Y / Ly))\n",
    "p_sd_2, ite_sd_2, conv_sd_2 = poisson_2d_steepest_descent(p0, b2, dx, dy, maxiter = 40000, rtol = 1e-10)\n",
    "p_cg_2, ite_cg_2, conv_cg_2 = poisson_2d_conjugate_gradient(p0, b2, dx, dy, maxiter = 40000, rtol = 1e-10)\n",
    "p_j_2, ite_j_2, conv_j_2 = poisson_2d_jacobi(p0, b2, dx, dy, maxiter = 40000, rtol = 1e-10)"
   ]
  },
  {
   "cell_type": "code",
   "execution_count": 76,
   "metadata": {},
   "outputs": [
    {
     "name": "stdout",
     "output_type": "stream",
     "text": [
      "2.4657658526086296e-14\n",
      "9.998128475296845e-11\n",
      "9.998980840555589e-11\n"
     ]
    }
   ],
   "source": [
    "print(conv_cg_2[-1])\n",
    "print(conv_sd_2[-1])\n",
    "print(conv_j_2[-1])"
   ]
  },
  {
   "cell_type": "code",
   "execution_count": 77,
   "metadata": {},
   "outputs": [
    {
     "name": "stdout",
     "output_type": "stream",
     "text": [
      "3\n",
      "27059\n",
      "31226\n"
     ]
    }
   ],
   "source": [
    "print(ite_cg_2)\n",
    "print(ite_sd_2)\n",
    "print(ite_j_2)"
   ]
  },
  {
   "cell_type": "code",
   "execution_count": null,
   "metadata": {},
   "outputs": [],
   "source": []
  }
 ],
 "metadata": {
  "kernelspec": {
   "display_name": "Python 3",
   "language": "python",
   "name": "python3"
  },
  "language_info": {
   "codemirror_mode": {
    "name": "ipython",
    "version": 3
   },
   "file_extension": ".py",
   "mimetype": "text/x-python",
   "name": "python",
   "nbconvert_exporter": "python",
   "pygments_lexer": "ipython3",
   "version": "3.7.3"
  }
 },
 "nbformat": 4,
 "nbformat_minor": 2
}
