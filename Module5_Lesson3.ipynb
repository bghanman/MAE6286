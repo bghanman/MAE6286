{
 "cells": [
  {
   "cell_type": "code",
   "execution_count": 7,
   "metadata": {},
   "outputs": [],
   "source": [
    "#module 5 lesson 3 \"relax and hold steady\"\n",
    "#import libraries\n",
    "import numpy\n",
    "from matplotlib import pyplot\n",
    "%matplotlib inline\n",
    "from helper import laplace_solution, l2_norm, plot_3d"
   ]
  },
  {
   "cell_type": "code",
   "execution_count": 2,
   "metadata": {},
   "outputs": [],
   "source": [
    "# Set some parameters\n",
    "nx, ny = 128, 128  # number of points in the x/y direction\n",
    "Lx, Ly = 5.0, 5.0  # domain length in the x/y direction\n",
    "dx = Lx / (nx - 1)  # grid spacing in x direction\n",
    "dy = Ly / (ny - 1)  # grid spacing in y direction\n",
    "\n",
    "# Create the gridline locations.\n",
    "x = numpy.linspace(0.0, Lx, num=nx)\n",
    "y = numpy.linspace(0.0, Ly, num=ny)\n",
    "\n",
    "# Set the initial conditions.\n",
    "p0 = numpy.zeros((ny, nx))\n",
    "p0[-1, :] = numpy.sin(1.5 * numpy.pi * x / Lx)"
   ]
  },
  {
   "cell_type": "code",
   "execution_count": 5,
   "metadata": {},
   "outputs": [],
   "source": [
    "def laplace_2d_jacobi(p0, maxiter=20000, rtol=1e-6):\n",
    "    p = p0.copy()\n",
    "    diff = rtol + 1.0  # initial difference\n",
    "    ite = 0  # iteration index\n",
    "    while diff > rtol and ite < maxiter:\n",
    "        pn = p.copy()\n",
    "        # Update the solution at interior points.\n",
    "        p[1:-1, 1:-1] = 0.25 * (pn[1:-1, :-2] + pn[1:-1, 2:] +\n",
    "                                pn[:-2, 1:-1] + pn[2:, 1:-1])\n",
    "        # Apply 2nd-order Neumann condition (zero-gradient)\n",
    "        # at the right boundary.\n",
    "        p[1:-1, -1] = 0.25 * (2.0 * pn[1:-1, -2] +\n",
    "                              pn[2:, -1] + pn[:-2, -1])\n",
    "        # Compute the relative L2-norm of the difference.\n",
    "        diff = l2_norm(p, pn)\n",
    "        ite += 1\n",
    "    return p, ite, diff"
   ]
  },
  {
   "cell_type": "code",
   "execution_count": 8,
   "metadata": {},
   "outputs": [
    {
     "name": "stdout",
     "output_type": "stream",
     "text": [
      "19993\n",
      "9.998616841218672e-09\n"
     ]
    }
   ],
   "source": [
    "# Compute the solution using Jacobi relaxation method.\n",
    "p, ites, diff = laplace_2d_jacobi(p0, maxiter=20000, rtol=1e-8)\n",
    "print(ites)\n",
    "print(diff)"
   ]
  },
  {
   "cell_type": "code",
   "execution_count": 9,
   "metadata": {},
   "outputs": [
    {
     "name": "stdout",
     "output_type": "stream",
     "text": [
      "3.76 s ± 234 ms per loop (mean ± std. dev. of 7 runs, 1 loop each)\n"
     ]
    }
   ],
   "source": [
    "%%timeit\n",
    "laplace_2d_jacobi(p0, maxiter=20000, rtol=1e-8)"
   ]
  },
  {
   "cell_type": "code",
   "execution_count": 10,
   "metadata": {},
   "outputs": [
    {
     "data": {
      "text/plain": [
       "6.173551335287984e-05"
      ]
     },
     "execution_count": 10,
     "metadata": {},
     "output_type": "execute_result"
    }
   ],
   "source": [
    "# Compute the analytical solution.\n",
    "p_exact = laplace_solution(x, y, Lx, Ly)\n",
    "\n",
    "# Compute the relative L2-norm of the error.\n",
    "l2_norm(p, p_exact)"
   ]
  },
  {
   "cell_type": "code",
   "execution_count": 11,
   "metadata": {},
   "outputs": [],
   "source": [
    "def laplace_2d_gauss_seidel(p0, maxiter=20000, rtol=1e-6):\n",
    "    ny, nx = p0.shape\n",
    "    p = p0.copy()\n",
    "    diff = rtol + 1.0  # initial difference\n",
    "    ite = 0  # iteration index\n",
    "    while diff > rtol and ite < maxiter:\n",
    "        pn = p.copy()\n",
    "        # Update the solution at interior points.\n",
    "        for j in range(1, ny - 1):\n",
    "            for i in range(1, nx - 1):\n",
    "                p[j, i] = 0.25 * (p[j, i - 1] + p[j, i + 1] +\n",
    "                                  p[j - 1, i] + p[j + 1, i])\n",
    "        # Apply 2nd-order Neumann condition (zero-gradient)\n",
    "        # at the right boundary.\n",
    "        for j in range(1, ny - 1):\n",
    "            p[j, -1] = 0.25 * (2.0 * p[j, -2] +\n",
    "                               p[j - 1, -1] + p[j + 1, -1])\n",
    "        # Compute the relative L2-norm of the difference.\n",
    "        diff = l2_norm(p, pn)\n",
    "        ite += 1\n",
    "    return p, ite, diff"
   ]
  },
  {
   "cell_type": "code",
   "execution_count": 13,
   "metadata": {},
   "outputs": [],
   "source": [
    "import numba\n",
    "from numba import jit"
   ]
  },
  {
   "cell_type": "code",
   "execution_count": 18,
   "metadata": {},
   "outputs": [],
   "source": [
    "def fib_it(n):\n",
    "    a, b = 1, 1\n",
    "    for i in range(n - 2):\n",
    "        a, b = b, a + b\n",
    "    return b"
   ]
  },
  {
   "cell_type": "code",
   "execution_count": 19,
   "metadata": {},
   "outputs": [
    {
     "name": "stdout",
     "output_type": "stream",
     "text": [
      "3.4 s ± 125 ms per loop (mean ± std. dev. of 7 runs, 1 loop each)\n"
     ]
    }
   ],
   "source": [
    "%%timeit\n",
    "fib_it(500000)"
   ]
  },
  {
   "cell_type": "code",
   "execution_count": 20,
   "metadata": {},
   "outputs": [],
   "source": [
    "@jit\n",
    "def fib_it(n):\n",
    "    a, b = 1, 1\n",
    "    for i in range(n - 2):\n",
    "        a, b = b, a + b\n",
    "    return b"
   ]
  },
  {
   "cell_type": "code",
   "execution_count": 21,
   "metadata": {},
   "outputs": [
    {
     "name": "stdout",
     "output_type": "stream",
     "text": [
      "205 µs ± 4.37 µs per loop (mean ± std. dev. of 7 runs, 10000 loops each)\n"
     ]
    }
   ],
   "source": [
    "%%timeit\n",
    "fib_it(500000)"
   ]
  },
  {
   "cell_type": "code",
   "execution_count": 22,
   "metadata": {},
   "outputs": [],
   "source": [
    "#Successive Over Relaxation\n",
    "def laplace_2d_sor(p0, omega, maxiter=20000, rtol=1e-6):\n",
    "    ny, nx = p0.shape\n",
    "    p = p0.copy()\n",
    "    conv = []  # convergence history\n",
    "    diff = rtol + 1.0  # initial difference\n",
    "    ite = 0  # iteration index\n",
    "    while diff > rtol and ite < maxiter:\n",
    "        pn = p.copy()\n",
    "        # Update the solution at interior points.\n",
    "        for j in range(1, ny - 1):\n",
    "            for i in range(1, nx - 1):\n",
    "                p[j, i] = ((1.0 - omega) * p[j, i] +\n",
    "                           omega * 0.25 *(p[j, i - 1] + p[j, i + 1] +\n",
    "                                          p[j - 1, i] + p[j + 1, i]))\n",
    "        # Apply 2nd-order Neumann condition (zero-gradient)\n",
    "        # at the right boundary.\n",
    "        for j in range(1, ny - 1):\n",
    "            p[j, -1] = 0.25 * (2.0 * p[j, -2] +\n",
    "                               p[j - 1, -1] + p[j + 1, -1])\n",
    "        # Compute the relative L2-norm of the difference.\n",
    "        diff = numpy.sqrt(numpy.sum((p - pn)**2) / numpy.sum(pn**2))\n",
    "        conv.append(diff)\n",
    "        ite += 1\n",
    "    return p, ite, conv"
   ]
  },
  {
   "cell_type": "code",
   "execution_count": 23,
   "metadata": {},
   "outputs": [
    {
     "ename": "KeyboardInterrupt",
     "evalue": "",
     "output_type": "error",
     "traceback": [
      "\u001b[1;31m---------------------------------------------------------------------------\u001b[0m",
      "\u001b[1;31mKeyboardInterrupt\u001b[0m                         Traceback (most recent call last)",
      "\u001b[1;32m<ipython-input-23-7287ad124d27>\u001b[0m in \u001b[0;36m<module>\u001b[1;34m\u001b[0m\n\u001b[0;32m      1\u001b[0m \u001b[0momega\u001b[0m \u001b[1;33m=\u001b[0m \u001b[1;36m1.0\u001b[0m\u001b[1;33m\u001b[0m\u001b[1;33m\u001b[0m\u001b[0m\n\u001b[0;32m      2\u001b[0m p, ites, conv_sor = laplace_2d_sor(p0, omega,\n\u001b[1;32m----> 3\u001b[1;33m                                    maxiter=20000, rtol=1e-8)\n\u001b[0m\u001b[0;32m      4\u001b[0m \u001b[0mprint\u001b[0m\u001b[1;33m(\u001b[0m\u001b[0mites\u001b[0m\u001b[1;33m)\u001b[0m\u001b[1;33m\u001b[0m\u001b[1;33m\u001b[0m\u001b[0m\n\u001b[0;32m      5\u001b[0m \u001b[0mprint\u001b[0m\u001b[1;33m(\u001b[0m\u001b[0mconv_sor\u001b[0m\u001b[1;33m)\u001b[0m\u001b[1;33m\u001b[0m\u001b[1;33m\u001b[0m\u001b[0m\n",
      "\u001b[1;32m<ipython-input-22-12e67ba326d8>\u001b[0m in \u001b[0;36mlaplace_2d_sor\u001b[1;34m(p0, omega, maxiter, rtol)\u001b[0m\n\u001b[0;32m     13\u001b[0m                 p[j, i] = ((1.0 - omega) * p[j, i] +\n\u001b[0;32m     14\u001b[0m                            omega * 0.25 *(p[j, i - 1] + p[j, i + 1] +\n\u001b[1;32m---> 15\u001b[1;33m                                           p[j - 1, i] + p[j + 1, i]))\n\u001b[0m\u001b[0;32m     16\u001b[0m         \u001b[1;31m# Apply 2nd-order Neumann condition (zero-gradient)\u001b[0m\u001b[1;33m\u001b[0m\u001b[1;33m\u001b[0m\u001b[1;33m\u001b[0m\u001b[0m\n\u001b[0;32m     17\u001b[0m         \u001b[1;31m# at the right boundary.\u001b[0m\u001b[1;33m\u001b[0m\u001b[1;33m\u001b[0m\u001b[1;33m\u001b[0m\u001b[0m\n",
      "\u001b[1;31mKeyboardInterrupt\u001b[0m: "
     ]
    }
   ],
   "source": [
    "omega = 1.0\n",
    "p, ites, conv_sor = laplace_2d_sor(p0, omega,\n",
    "                                   maxiter=20000, rtol=1e-8)\n",
    "print(ites)\n",
    "print(conv_sor)"
   ]
  },
  {
   "cell_type": "code",
   "execution_count": null,
   "metadata": {},
   "outputs": [],
   "source": [
    "omega = 1.5\n",
    "p, ites, conv_sor = laplace_2d_sor(p0, omega,\n",
    "                                   maxiter=20000, rtol=1e-8)\n",
    "print(ites)\n",
    "print(conv_sor)"
   ]
  },
  {
   "cell_type": "code",
   "execution_count": null,
   "metadata": {},
   "outputs": [],
   "source": [
    "#tune the SOR\n",
    "omega = 2.0 / (1.0 + numpy.pi / nx)\n",
    "p, ites, conv_sor = laplace_2d_sor(p0, omega, maxiter=20000, rtol=1e-8)\n",
    "print(ites)\n",
    "print(conv_sor)"
   ]
  },
  {
   "cell_type": "code",
   "execution_count": null,
   "metadata": {},
   "outputs": [],
   "source": []
  }
 ],
 "metadata": {
  "kernelspec": {
   "display_name": "Python 3",
   "language": "python",
   "name": "python3"
  },
  "language_info": {
   "codemirror_mode": {
    "name": "ipython",
    "version": 3
   },
   "file_extension": ".py",
   "mimetype": "text/x-python",
   "name": "python",
   "nbconvert_exporter": "python",
   "pygments_lexer": "ipython3",
   "version": "3.7.3"
  }
 },
 "nbformat": 4,
 "nbformat_minor": 2
}
