{
 "cells": [
  {
   "cell_type": "markdown",
   "metadata": {},
   "source": [
    "# 1D Heat Diffusion"
   ]
  },
  {
   "cell_type": "code",
   "execution_count": 62,
   "metadata": {},
   "outputs": [],
   "source": [
    "import numpy\n",
    "from matplotlib import pyplot\n",
    "from scipy.sparse import coo_matrix\n",
    "from sys import getsizeof\n",
    "\n",
    "%matplotlib inline"
   ]
  },
  {
   "cell_type": "code",
   "execution_count": 63,
   "metadata": {},
   "outputs": [],
   "source": [
    "#Set parameters\n",
    "nt = 1000\n",
    "sigma = 0.5\n",
    "nx = 51\n",
    "L = 1.0\n",
    "dx = L / (nx - 1)\n",
    "alpha = 1.22e-3 #conduction coefficient\n",
    "dt = sigma * dx**2 / alpha\n",
    "\n",
    "#Set up spatial grid\n",
    "x = numpy.linspace(0.0, L, num = nx)\n",
    "\n",
    "#Define initial temperature \n",
    "T0 = numpy.zeros(nx)\n",
    "T0[0] = 100.0\n",
    "T0[-1] = 0.0"
   ]
  },
  {
   "cell_type": "code",
   "execution_count": 64,
   "metadata": {},
   "outputs": [],
   "source": [
    "def ftcs_d(T0, nt, dt, dx):\n",
    "    \"\"\"Perform forward time central space for 1D heat conduction\n",
    "    with a Dirichlet boundary condition (fixed boundary)\"\"\"\n",
    "    \n",
    "    T = T0.copy()\n",
    "    for i in range(nt):\n",
    "        T[1:-1] = (T[1:-1] + alpha * dt / dx**2 * \n",
    "                   (T[:-2] - 2 * T[1:-1] + T[2:]))\n",
    "        \n",
    "        T[0] = T0[0]\n",
    "        T[-1] = T0[-1]\n",
    "        \n",
    "    return T"
   ]
  },
  {
   "cell_type": "code",
   "execution_count": 65,
   "metadata": {},
   "outputs": [],
   "source": [
    "def ftcs_n(T0, nt, dt, dx, q = 0.0):\n",
    "    \"\"\"Perform forward time central space for 1D heat conduction\n",
    "    with a Neumann boundary condition (fixed derivative)\"\"\"\n",
    "    \n",
    "    T = T0.copy()\n",
    "    for i in range(nt):\n",
    "        T[1:-1] = (T[1:-1] + alpha * dt / dx**2 *\n",
    "                   (T[:-2] - 2 * T[1:-1] + T[2:]))\n",
    "        \n",
    "        #Update left boundary Diri\n",
    "        T[0] = T0[0]\n",
    "        #Update right boundary - Neumann\n",
    "        T[-1] = T[-2] + q * dx\n",
    "        \n",
    "    return T"
   ]
  },
  {
   "cell_type": "code",
   "execution_count": 66,
   "metadata": {},
   "outputs": [
    {
     "data": {
      "image/png": "[encoded data removed]",
      "text/plain": [
       "<Figure size 432x288 with 1 Axes>"
      ]
     },
     "metadata": {
      "needs_background": "light"
     },
     "output_type": "display_data"
    }
   ],
   "source": [
    "nt = 1000\n",
    "Td = ftcs_d(T0, nt, dt, dx)\n",
    "Tn = ftcs_n(T0, nt, dt, dx)\n",
    "pyplot.plot(x, Td, label = 'Dirichlet')\n",
    "pyplot.plot(x, Tn, label = 'Neumann')\n",
    "pyplot.xlabel('Distance')\n",
    "pyplot.ylabel('Temperature')\n",
    "pyplot.legend()\n",
    "pyplot.xlim(0.0, L)\n",
    "pyplot.ylim(0.0, 100.0)\n",
    "pyplot.grid()"
   ]
  },
  {
   "cell_type": "markdown",
   "metadata": {},
   "source": [
    "# Solve Implicit Scheme"
   ]
  },
  {
   "cell_type": "code",
   "execution_count": 67,
   "metadata": {},
   "outputs": [],
   "source": [
    "def lhs(N, sigma):\n",
    "    \"\"\"Determine left hand side operator \n",
    "    of the 1D heat diffusion of the BTCS\n",
    "    \n",
    "    N : number f interior points\n",
    "    sigma : alpha * dt / dx**2\"\"\"\n",
    "    \n",
    "    #Establish diagonal of lhs\n",
    "    D = numpy.diag((2.0 + 1.0 / sigma) * numpy.ones(N))\n",
    "    D[-1,-1] = 1.0 + 1.0 / sigma #Neumann last bounary\n",
    "    \n",
    "    U = numpy.diag(-1.0 * numpy.ones(N - 1), k = 1)\n",
    "    L = numpy.diag(-1.0 * numpy.ones(N - 1), k = -1)\n",
    "    \n",
    "    #Newwwws Team, Asseeeemmmbbblllleee\n",
    "    lhs = D + U + L\n",
    "    \n",
    "    \n",
    "    return lhs"
   ]
  },
  {
   "cell_type": "code",
   "execution_count": 68,
   "metadata": {},
   "outputs": [],
   "source": [
    "def rhs(T, sigma, qdx):\n",
    "    \"\"\"Establish the right hand side of the 1D heat diffusion of BTCS\"\"\"\n",
    "   \n",
    "    #Establish bulk of rhs array\n",
    "    rhs = T[1:-1] / sigma\n",
    "    #Adjust boundary\n",
    "    rhs[0]  += T[0] \n",
    "    rhs[-1] += qdx\n",
    "    \n",
    "    return rhs"
   ]
  },
  {
   "cell_type": "code",
   "execution_count": 69,
   "metadata": {},
   "outputs": [],
   "source": [
    "def btcs(T0, nt, dt, dx, alpha, q = 0.0):\n",
    "    \"\"\"Solve backware time central space implicitly\"\"\"\n",
    "    \n",
    "    T = T0.copy()\n",
    "    sigma = alpha * dt / dx**2\n",
    "    #Solve for qdx, needed for last entry of rhs\n",
    "    qdx = q * dx\n",
    "    #Determine length of LHS\n",
    "    N = len(T0) - 2\n",
    "    #Solve lhs operator\n",
    "    A = lhs(N, sigma)\n",
    "    for n in range(nt):\n",
    "        #solve rhs operator at each time step\n",
    "        b = rhs(T, sigma, qdx)\n",
    "        #solve for central temperature points using linear algebra solver\n",
    "        T[1:-1] = numpy.linalg.solve(A,b)\n",
    "        #Left hand side boundary - Diri\n",
    "        T[0] = T0[0]\n",
    "        #Right hand side boundary - Neumann\n",
    "        T[-1] = T[-2] + qdx\n",
    "        \n",
    "    return T"
   ]
  },
  {
   "cell_type": "code",
   "execution_count": 70,
   "metadata": {},
   "outputs": [
    {
     "data": {
      "image/png": "[encoded data removed]",
      "text/plain": [
       "<Figure size 432x288 with 1 Axes>"
      ]
     },
     "metadata": {
      "needs_background": "light"
     },
     "output_type": "display_data"
    }
   ],
   "source": [
    "nt = 1000\n",
    "sigma = 0.5\n",
    "dt = sigma * dx**2 / alpha\n",
    "T_imp = btcs(T0, nt, dt, dx, alpha)\n",
    "pyplot.plot(x, T_imp, label = 'Implicit BTCS')\n",
    "pyplot.xlabel('Distance')\n",
    "pyplot.ylabel('Temperature')\n",
    "pyplot.grid()\n",
    "pyplot.legend()\n",
    "pyplot.xlim(0.0, L)\n",
    "pyplot.ylim(0.0, 100.0);"
   ]
  },
  {
   "cell_type": "markdown",
   "metadata": {},
   "source": [
    "# Utilize a Sparse vs a Dense Matrix\n"
   ]
  },
  {
   "cell_type": "code",
   "execution_count": 71,
   "metadata": {},
   "outputs": [],
   "source": [
    "def lhs_s(N, sigma):\n",
    "    \"\"\"Determine left hand side operator \n",
    "    of the 1D heat diffusion of the BTCS\n",
    "    \n",
    "    N : number f interior points\n",
    "    sigma : alpha * dt / dx**2\"\"\"\n",
    "    \n",
    "    #Establish diagonal of lhs\n",
    "    D = numpy.diag((2.0 + 1.0 / sigma) * numpy.ones(N))\n",
    "    D[-1,-1] = 1.0 + 1.0 / sigma #Neumann last bounary\n",
    "    \n",
    "    U = numpy.diag(-1.0 * numpy.ones(N - 1), k = 1)\n",
    "    L = numpy.diag(-1.0 * numpy.ones(N - 1), k = -1)\n",
    "    \n",
    "    #Newwwws Team, Asseeeemmmbbblllleee\n",
    "    lhs_dense = D + U + L\n",
    "    \n",
    "    lhs = coo_matrix(lhs_dense)\n",
    "    \n",
    "    return lhs"
   ]
  },
  {
   "cell_type": "code",
   "execution_count": 72,
   "metadata": {},
   "outputs": [],
   "source": [
    "N = len(T0) - 2\n",
    "sigma = alpha * dt / dx**2"
   ]
  },
  {
   "cell_type": "code",
   "execution_count": 73,
   "metadata": {},
   "outputs": [],
   "source": [
    "dense = lhs(N, sigma)\n",
    "sparse = lhs_s(N, sigma);"
   ]
  },
  {
   "cell_type": "code",
   "execution_count": 78,
   "metadata": {},
   "outputs": [
    {
     "name": "stdout",
     "output_type": "stream",
     "text": [
      "19320\n",
      "56\n",
      "19264\n"
     ]
    }
   ],
   "source": [
    "#compare the memory usage of both methods utiziling the system method Getsizeof\n",
    "print(getsizeof(dense))\n",
    "print(getsizeof(sparse))\n",
    "print(getsizeof(dense) - getsizeof(sparse))"
   ]
  },
  {
   "cell_type": "code",
   "execution_count": null,
   "metadata": {},
   "outputs": [],
   "source": []
  }
 ],
 "metadata": {
  "kernelspec": {
   "display_name": "Python 3",
   "language": "python",
   "name": "python3"
  },
  "language_info": {
   "codemirror_mode": {
    "name": "ipython",
    "version": 3
   },
   "file_extension": ".py",
   "mimetype": "text/x-python",
   "name": "python",
   "nbconvert_exporter": "python",
   "pygments_lexer": "ipython3",
   "version": "3.7.3"
  }
 },
 "nbformat": 4,
 "nbformat_minor": 2
}
