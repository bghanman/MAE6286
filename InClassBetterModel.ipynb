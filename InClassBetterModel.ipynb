{
 "cells": [
  {
   "cell_type": "markdown",
   "metadata": {},
   "source": [
    "# In Class \"Better Model\" Development"
   ]
  },
  {
   "cell_type": "code",
   "execution_count": 1,
   "metadata": {},
   "outputs": [],
   "source": [
    "#using sympy to implement model conditions\n",
    "import sympy\n",
    "import numpy\n",
    "from matplotlib import pyplot\n",
    "import ipywidgets\n",
    "\n",
    "%matplotlib inline"
   ]
  },
  {
   "cell_type": "code",
   "execution_count": 2,
   "metadata": {},
   "outputs": [],
   "source": [
    "sympy.init_printing()\n",
    "\n",
    "(u_max, u_star, rho_max, \n",
    " rho_star, A, B) = sympy.symbols('u_max u^* rho_max rho^* A B')"
   ]
  },
  {
   "cell_type": "code",
   "execution_count": 3,
   "metadata": {},
   "outputs": [],
   "source": [
    "#No Traffic at Max Density\n",
    "eq1 = sympy.Eq(0, u_max * rho_max * (1 - A * rho_max - B * rho_max**2))\n",
    "\n",
    "#Max flux occurs at rho = rho_star (derivative of F(rho_star) = 0)\n",
    "eq2 = sympy.Eq(0, u_max * (1 - 2 * A * rho_star - 3 * B * rho_star**2))\n",
    "\n",
    "#u_star is obtained at rho = rho_star\n",
    "eq3 = sympy.Eq(u_star, u_max * (1 - A * rho_star - B * rho_star**2))"
   ]
  },
  {
   "cell_type": "code",
   "execution_count": 4,
   "metadata": {},
   "outputs": [
    {
     "data": {
      "image/png": "[encoded data removed]",
      "text/latex": [
       "$\\displaystyle 0 = \\rho_{max} u_{max} \\left(- A \\rho_{max} - B \\rho_{max}^{2} + 1\\right)$"
      ],
      "text/plain": [
       "              ⎛                2    ⎞\n",
       "0 = ρₘₐₓ⋅uₘₐₓ⋅⎝-A⋅ρₘₐₓ - B⋅ρₘₐₓ  + 1⎠"
      ]
     },
     "execution_count": 4,
     "metadata": {},
     "output_type": "execute_result"
    }
   ],
   "source": [
    "eq1"
   ]
  },
  {
   "cell_type": "code",
   "execution_count": 5,
   "metadata": {},
   "outputs": [
    {
     "data": {
      "image/png": "[encoded data removed]",
      "text/latex": [
       "$\\displaystyle 0 = u_{max} \\left(- 2 A \\rho^{*} - 3 B \\left(\\rho^{*}\\right)^{2} + 1\\right)$"
      ],
      "text/plain": [
       "         ⎛                    2    ⎞\n",
       "0 = uₘₐₓ⋅⎝-2⋅A⋅ρ__* - 3⋅B⋅ρ__*  + 1⎠"
      ]
     },
     "execution_count": 5,
     "metadata": {},
     "output_type": "execute_result"
    }
   ],
   "source": [
    "eq2"
   ]
  },
  {
   "cell_type": "code",
   "execution_count": 6,
   "metadata": {},
   "outputs": [
    {
     "data": {
      "image/png": "[encoded data removed]",
      "text/latex": [
       "$\\displaystyle u^{*} = u_{max} \\left(- A \\rho^{*} - B \\left(\\rho^{*}\\right)^{2} + 1\\right)$"
      ],
      "text/plain": [
       "            ⎛                2    ⎞\n",
       "u__* = uₘₐₓ⋅⎝-A⋅ρ__* - B⋅ρ__*  + 1⎠"
      ]
     },
     "execution_count": 6,
     "metadata": {},
     "output_type": "execute_result"
    }
   ],
   "source": [
    "eq3"
   ]
  },
  {
   "cell_type": "code",
   "execution_count": 7,
   "metadata": {},
   "outputs": [
    {
     "data": {
      "image/png": "[encoded data removed]",
      "text/latex": [
       "$\\displaystyle - 3 u^{*} = u_{max} \\left(- 2 A \\rho^{*} - 3 B \\left(\\rho^{*}\\right)^{2} + 1\\right) - 3 u_{max} \\left(- A \\rho^{*} - B \\left(\\rho^{*}\\right)^{2} + 1\\right)$"
      ],
      "text/plain": [
       "               ⎛                    2    ⎞          ⎛                2    ⎞\n",
       "-3⋅u__* = uₘₐₓ⋅⎝-2⋅A⋅ρ__* - 3⋅B⋅ρ__*  + 1⎠ - 3⋅uₘₐₓ⋅⎝-A⋅ρ__* - B⋅ρ__*  + 1⎠"
      ]
     },
     "execution_count": 7,
     "metadata": {},
     "output_type": "execute_result"
    }
   ],
   "source": [
    "#Three solutions with three unknowns (A, B, rho_star - u_star is determined via observation)\n",
    "#Eliminate a B\n",
    "eq4 = sympy.Eq(eq2.lhs - 3 * eq3.lhs, eq2.rhs - 3 * eq3.rhs)\n",
    "eq4"
   ]
  },
  {
   "cell_type": "code",
   "execution_count": 8,
   "metadata": {},
   "outputs": [
    {
     "data": {
      "image/png": "[encoded data removed]",
      "text/latex": [
       "$\\displaystyle 3 u^{*} = - u_{max} \\left(A \\rho^{*} - 2\\right)$"
      ],
      "text/plain": [
       "3⋅u__* = -uₘₐₓ⋅(A⋅ρ__* - 2)"
      ]
     },
     "execution_count": 8,
     "metadata": {},
     "output_type": "execute_result"
    }
   ],
   "source": [
    "eq4.simplify()"
   ]
  },
  {
   "cell_type": "code",
   "execution_count": 9,
   "metadata": {},
   "outputs": [
    {
     "data": {
      "image/png": "[encoded data removed]",
      "text/latex": [
       "$\\displaystyle - 3 u^{*} = A \\rho^{*} u_{max} - 2 u_{max}$"
      ],
      "text/plain": [
       "-3⋅u__* = A⋅ρ__*⋅uₘₐₓ - 2⋅uₘₐₓ"
      ]
     },
     "execution_count": 9,
     "metadata": {},
     "output_type": "execute_result"
    }
   ],
   "source": [
    "eq4.expand()"
   ]
  },
  {
   "cell_type": "code",
   "execution_count": 10,
   "metadata": {},
   "outputs": [
    {
     "data": {
      "image/png": "[encoded data removed]",
      "text/latex": [
       "$\\displaystyle \\frac{- 3 u^{*} + 2 u_{max}}{A u_{max}}$"
      ],
      "text/plain": [
       "-3⋅u__* + 2⋅uₘₐₓ\n",
       "────────────────\n",
       "     A⋅uₘₐₓ     "
      ]
     },
     "execution_count": 10,
     "metadata": {},
     "output_type": "execute_result"
    }
   ],
   "source": [
    "rho_sol = sympy.solve(eq4, rho_star)[0]\n",
    "rho_sol"
   ]
  },
  {
   "cell_type": "code",
   "execution_count": 11,
   "metadata": {},
   "outputs": [
    {
     "data": {
      "image/png": "[encoded data removed]",
      "text/latex": [
       "$\\displaystyle \\frac{- A \\rho_{max} + 1}{\\rho_{max}^{2}}$"
      ],
      "text/plain": [
       "-A⋅ρₘₐₓ + 1\n",
       "───────────\n",
       "       2   \n",
       "   ρₘₐₓ    "
      ]
     },
     "execution_count": 11,
     "metadata": {},
     "output_type": "execute_result"
    }
   ],
   "source": [
    "B_sol = sympy.solve(eq1, B)[0]\n",
    "B_sol"
   ]
  },
  {
   "cell_type": "code",
   "execution_count": 12,
   "metadata": {},
   "outputs": [
    {
     "data": {
      "image/png": "[encoded data removed]",
      "text/latex": [
       "$\\displaystyle 0 = u_{max} \\left(1 - \\frac{2 \\left(- 3 u^{*} + 2 u_{max}\\right)}{u_{max}} - \\frac{3 \\left(- 3 u^{*} + 2 u_{max}\\right)^{2} \\left(- A \\rho_{max} + 1\\right)}{A^{2} \\rho_{max}^{2} u_{max}^{2}}\\right)$"
      ],
      "text/plain": [
       "         ⎛                                               2              ⎞\n",
       "         ⎜    2⋅(-3⋅u__* + 2⋅uₘₐₓ)   3⋅(-3⋅u__* + 2⋅uₘₐₓ) ⋅(-A⋅ρₘₐₓ + 1)⎟\n",
       "0 = uₘₐₓ⋅⎜1 - ──────────────────── - ───────────────────────────────────⎟\n",
       "         ⎜            uₘₐₓ                       2     2     2          ⎟\n",
       "         ⎝                                      A ⋅ρₘₐₓ ⋅uₘₐₓ           ⎠"
      ]
     },
     "execution_count": 12,
     "metadata": {},
     "output_type": "execute_result"
    }
   ],
   "source": [
    "quadA = eq2.subs([(rho_star, rho_sol), (B, B_sol)])\n",
    "quadA"
   ]
  },
  {
   "cell_type": "code",
   "execution_count": 13,
   "metadata": {},
   "outputs": [
    {
     "data": {
      "image/png": "[encoded data removed]",
      "text/latex": [
       "$\\displaystyle 6 u^{*} - 3 u_{max} + \\frac{3 \\left(3 u^{*} - 2 u_{max}\\right)^{2}}{A \\rho_{max} u_{max}} - \\frac{3 \\left(3 u^{*} - 2 u_{max}\\right)^{2}}{A^{2} \\rho_{max}^{2} u_{max}} = 0$"
      ],
      "text/plain": [
       "                                     2                      2    \n",
       "                  3⋅(3⋅u__* - 2⋅uₘₐₓ)    3⋅(3⋅u__* - 2⋅uₘₐₓ)     \n",
       "6⋅u__* - 3⋅uₘₐₓ + ──────────────────── - ──────────────────── = 0\n",
       "                      A⋅ρₘₐₓ⋅uₘₐₓ            2     2             \n",
       "                                            A ⋅ρₘₐₓ ⋅uₘₐₓ        "
      ]
     },
     "execution_count": 13,
     "metadata": {},
     "output_type": "execute_result"
    }
   ],
   "source": [
    "quadA.simplify()"
   ]
  },
  {
   "cell_type": "code",
   "execution_count": 14,
   "metadata": {},
   "outputs": [],
   "source": [
    "A_sol = sympy.solve(quadA, A)"
   ]
  },
  {
   "cell_type": "code",
   "execution_count": 15,
   "metadata": {},
   "outputs": [
    {
     "data": {
      "image/png": "[encoded data removed]",
      "text/latex": [
       "$\\displaystyle \\frac{\\sqrt{u^{*} \\left(9 u^{*} - 4 u_{max}\\right)} \\left(- 3 u^{*} + 2 u_{max}\\right) - \\left(3 u^{*} - 2 u_{max}\\right)^{2}}{2 \\rho_{max} u_{max} \\left(2 u^{*} - u_{max}\\right)}$"
      ],
      "text/plain": [
       "  ________________________                                       2\n",
       "╲╱ u__*⋅(9⋅u__* - 4⋅uₘₐₓ) ⋅(-3⋅u__* + 2⋅uₘₐₓ) - (3⋅u__* - 2⋅uₘₐₓ) \n",
       "──────────────────────────────────────────────────────────────────\n",
       "                   2⋅ρₘₐₓ⋅uₘₐₓ⋅(2⋅u__* - uₘₐₓ)                    "
      ]
     },
     "execution_count": 15,
     "metadata": {},
     "output_type": "execute_result"
    }
   ],
   "source": [
    "A_sol[0]"
   ]
  },
  {
   "cell_type": "code",
   "execution_count": 16,
   "metadata": {},
   "outputs": [
    {
     "data": {
      "image/png": "[encoded data removed]",
      "text/latex": [
       "$\\displaystyle \\frac{\\left(3 u^{*} - 2 u_{max}\\right) \\left(- 3 u^{*} + 2 u_{max} + \\sqrt{u^{*} \\left(9 u^{*} - 4 u_{max}\\right)}\\right)}{2 \\rho_{max} u_{max} \\left(2 u^{*} - u_{max}\\right)}$"
      ],
      "text/plain": [
       "                  ⎛                     ________________________⎞\n",
       "(3⋅u__* - 2⋅uₘₐₓ)⋅⎝-3⋅u__* + 2⋅uₘₐₓ + ╲╱ u__*⋅(9⋅u__* - 4⋅uₘₐₓ) ⎠\n",
       "─────────────────────────────────────────────────────────────────\n",
       "                   2⋅ρₘₐₓ⋅uₘₐₓ⋅(2⋅u__* - uₘₐₓ)                   "
      ]
     },
     "execution_count": 16,
     "metadata": {},
     "output_type": "execute_result"
    }
   ],
   "source": [
    "A_sol[1]"
   ]
  },
  {
   "cell_type": "code",
   "execution_count": 17,
   "metadata": {},
   "outputs": [
    {
     "data": {
      "image/png": "[encoded data removed]",
      "text/latex": [
       "$\\displaystyle -0.0171107219255619$"
      ],
      "text/plain": [
       "-0.0171107219255619"
      ]
     },
     "execution_count": 17,
     "metadata": {},
     "output_type": "execute_result"
    }
   ],
   "source": [
    "#Numerically evaluate given that rho_max = 10.0, u_max = 1.0, u_star = 0.7\n",
    "A_val_0 = A_sol[0].evalf(subs = {u_star: 0.7, u_max: 1.0, rho_max: 10.0})\n",
    "A_val_0"
   ]
  },
  {
   "cell_type": "code",
   "execution_count": 18,
   "metadata": {},
   "outputs": [
    {
     "data": {
      "image/png": "[encoded data removed]",
      "text/latex": [
       "$\\displaystyle 0.0146107219255619$"
      ],
      "text/plain": [
       "0.0146107219255619"
      ]
     },
     "execution_count": 18,
     "metadata": {},
     "output_type": "execute_result"
    }
   ],
   "source": [
    "A_val_1 = A_sol[1].evalf(subs = {u_star: 0.7, u_max: 1.0, rho_max: 10.0})\n",
    "A_val_1"
   ]
  },
  {
   "cell_type": "code",
   "execution_count": 19,
   "metadata": {},
   "outputs": [
    {
     "data": {
      "image/png": "[encoded data removed]",
      "text/latex": [
       "$\\displaystyle 0.0146107219255619$"
      ],
      "text/plain": [
       "0.0146107219255619"
      ]
     },
     "execution_count": 19,
     "metadata": {},
     "output_type": "execute_result"
    }
   ],
   "source": [
    "A_val = max(A_val_0, A_val_1)\n",
    "A_val"
   ]
  },
  {
   "cell_type": "code",
   "execution_count": 20,
   "metadata": {},
   "outputs": [
    {
     "data": {
      "image/png": "[encoded data removed]",
      "text/latex": [
       "$\\displaystyle 0.00853892780744381$"
      ],
      "text/plain": [
       "0.00853892780744381"
      ]
     },
     "execution_count": 20,
     "metadata": {},
     "output_type": "execute_result"
    }
   ],
   "source": [
    "B_val = B_sol.evalf(subs = {rho_max: 10.0, A: A_val})\n",
    "B_val"
   ]
  },
  {
   "cell_type": "code",
   "execution_count": 21,
   "metadata": {},
   "outputs": [],
   "source": [
    "#Turn off LATEX output - great for algebraic expressions obvi\n",
    "sympy.init_printing(use_latex = False)"
   ]
  },
  {
   "cell_type": "code",
   "execution_count": 22,
   "metadata": {},
   "outputs": [
    {
     "name": "stdout",
     "output_type": "stream",
     "text": [
      "<class 'sympy.core.symbol.Symbol'> <class 'sympy.core.symbol.Symbol'>\n"
     ]
    }
   ],
   "source": [
    "print(type(rho_max), type(u_max))"
   ]
  },
  {
   "cell_type": "code",
   "execution_count": 23,
   "metadata": {},
   "outputs": [],
   "source": [
    "#Define some initial parameters bruhhhh\n",
    "rho_max = 10.0 #maximum density\n",
    "u_max = 1.0 #maximum velocity\n",
    "nx = 81 #number of locations on the road\n",
    "L = 4.0 #road length\n",
    "dx = L / (nx - 1) #distance between points \n",
    "nt = 30 #num of time steps\n",
    "rho_light = 5.0 #car density at the light\n",
    "\n",
    "#Define the road locations\n",
    "x = numpy.linspace(0, L, num = nx)\n",
    "\n",
    "#Set time-step size based on CFL limit\n",
    "sigma = 1.0\n",
    "dt = sigma * dx / u_max #maximum stable step_size"
   ]
  },
  {
   "cell_type": "code",
   "execution_count": 57,
   "metadata": {},
   "outputs": [],
   "source": [
    "def rho_green_light(x, rho_light):\n",
    "    \"\"\"\n",
    "    Computes the green light initial condition.\n",
    "    It consists of a shock with a linear distribution behind it.\n",
    "    \n",
    "    \"\"\"\n",
    "    \n",
    "    rho = numpy.zeros_like(x)\n",
    "    mask = numpy.where(x < 2.0)\n",
    "    rho[mask] = rho_light * x[mask]\n",
    "    \n",
    "    return rho"
   ]
  },
  {
   "cell_type": "code",
   "execution_count": 58,
   "metadata": {},
   "outputs": [],
   "source": [
    "#Define initial traffic density\n",
    "rho0 = rho_green_light(x, rho_light)"
   ]
  },
  {
   "cell_type": "code",
   "execution_count": 59,
   "metadata": {},
   "outputs": [],
   "source": [
    "def flux_bm(rho, u_max, A, B):\n",
    "    \"\"\"Compute the flux using the 'better' model\"\"\"\n",
    "    \n",
    "    flux = rho * u_max * (1.0 - A * rho - B * rho**2)\n",
    "    \n",
    "    return flux"
   ]
  },
  {
   "cell_type": "code",
   "execution_count": 60,
   "metadata": {},
   "outputs": [],
   "source": [
    "def flux_qu(rho, rho_max, u_max):\n",
    "    \"\"\"Compute the flux using the 'quadratic' model\"\"\"\n",
    "    \n",
    "    flux = rho * u_max * (1.0 - rho / rho_max)\n",
    "    \n",
    "    return flux"
   ]
  },
  {
   "cell_type": "code",
   "execution_count": 66,
   "metadata": {},
   "outputs": [],
   "source": [
    "def plot(n, x, rho_hist):\n",
    "    \"\"\"Plot solution at a given time and compare to initial condition\"\"\"\n",
    "    \n",
    "    pyplot.figure()\n",
    "    pyplot.plot(x, rho_hist[0], label = 'Initial')\n",
    "    pyplot.plot(x, rho_hist[n], label = 'Current')\n",
    "    pyplot.grid()\n",
    "    pyplot.legend()\n",
    "    pyplot.xlim(0.0, 4.0)\n",
    "    pyplot.ylim(-0.5, 10.0)\n",
    "    pyplot.xlabel('Length of the road [km]')\n",
    "    pyplot.ylabel('Density of cars')\n",
    "    pyplot.show()"
   ]
  },
  {
   "cell_type": "code",
   "execution_count": 67,
   "metadata": {},
   "outputs": [],
   "source": [
    "rho_hist = [rho0.copy()]"
   ]
  },
  {
   "cell_type": "code",
   "execution_count": 68,
   "metadata": {},
   "outputs": [
    {
     "data": {
      "image/png": "[encoded data removed]",
      "text/plain": [
       "<Figure size 432x288 with 1 Axes>"
      ]
     },
     "metadata": {
      "needs_background": "light"
     },
     "output_type": "display_data"
    }
   ],
   "source": [
    "plot(0, x, rho_hist)"
   ]
  },
  {
   "cell_type": "code",
   "execution_count": 69,
   "metadata": {},
   "outputs": [],
   "source": [
    "def ftbs_bm(rho0, nt, dt, dx, u_max, rho_max, A, B):\n",
    "    \"\"\"Solve the density - green light problem using the\n",
    "    forward time - backward space method with the better \n",
    "    flux model\"\"\"\n",
    "    \n",
    "    rho_hist = [rho0.copy()]\n",
    "    rho = rho0.copy()\n",
    "    for n in range(nt):\n",
    "        F = flux_bm(rho, u_max, A, B)\n",
    "        #F = flux_qu(rho, rho_max, u_max)\n",
    "        rho[1:] = rho[1:] - dt / dx * (F[1:] - F[:-1])\n",
    "        rho_hist.append(rho.copy())\n",
    "    \n",
    "    return rho_hist"
   ]
  },
  {
   "cell_type": "code",
   "execution_count": 70,
   "metadata": {},
   "outputs": [],
   "source": [
    "def ftbs_qu(rho0, nt, dt, dx, u_max, rho_max, A, B):\n",
    "    \"\"\"Solve the density - green light problem using the\n",
    "    forward time - backward space method with the better \n",
    "    flux model\"\"\"\n",
    "    \n",
    "    rho_hist = [rho0.copy()]\n",
    "    rho = rho0.copy()\n",
    "    for n in range(nt):\n",
    "        #F = flux_bm(rho, u_max, A, B)\n",
    "        F = flux_qu(rho, rho_max, u_max)\n",
    "        rho[1:] = rho[1:] - dt / dx * (F[1:] - F[:-1])\n",
    "        rho_hist.append(rho.copy())\n",
    "    \n",
    "    return rho_hist"
   ]
  },
  {
   "cell_type": "code",
   "execution_count": 71,
   "metadata": {},
   "outputs": [
    {
     "name": "stderr",
     "output_type": "stream",
     "text": [
      "C:\\Users\\bghanman\\Anaconda3\\lib\\site-packages\\ipykernel_launcher.py:4: RuntimeWarning: overflow encountered in square\n",
      "  after removing the cwd from sys.path.\n"
     ]
    }
   ],
   "source": [
    "rho_hist_bm = ftbs_bm(rho0, nt, dt, dx, u_max, rho_max, A_val, B_val)\n",
    "rho_hist_qu = ftbs_qu(rho0, nt, dt, dx, u_max, rho_max, A_val, B_val)"
   ]
  },
  {
   "cell_type": "code",
   "execution_count": 72,
   "metadata": {},
   "outputs": [
    {
     "data": {
      "image/png": "[encoded data removed]",
      "text/plain": [
       "<Figure size 432x288 with 1 Axes>"
      ]
     },
     "metadata": {
      "needs_background": "light"
     },
     "output_type": "display_data"
    }
   ],
   "source": [
    "plot(nt, x, rho_hist_bm)"
   ]
  },
  {
   "cell_type": "code",
   "execution_count": 73,
   "metadata": {},
   "outputs": [],
   "source": [
    "def interactive_plot(x, rho_hist):\n",
    "    nt = len(rho_hist) - 1\n",
    "    nt_slider = ipywidgets.IntSlider(value=0, min=0, max=nt, step=1,\n",
    "                                    description='Time Step')\n",
    "    w = ipywidgets.interactive(plot, n=nt_slider,\n",
    "                              x=ipywidgets.fixed(x),\n",
    "                              rho_hist=ipywidgets.fixed(rho_hist))\n",
    "    \n",
    "    return w"
   ]
  },
  {
   "cell_type": "code",
   "execution_count": 74,
   "metadata": {},
   "outputs": [
    {
     "data": {
      "application/vnd.jupyter.widget-view+json": {
       "model_id": "e5f1e7f7a44e4248a3125200dd1acb9a",
       "version_major": 2,
       "version_minor": 0
      },
      "text/plain": [
       "interactive(children=(IntSlider(value=0, description='Time Step', max=30), Output()), _dom_classes=('widget-in…"
      ]
     },
     "metadata": {},
     "output_type": "display_data"
    }
   ],
   "source": [
    "interactive_plot(x, rho_hist_bm)"
   ]
  },
  {
   "cell_type": "code",
   "execution_count": 75,
   "metadata": {},
   "outputs": [
    {
     "data": {
      "application/vnd.jupyter.widget-view+json": {
       "model_id": "1dee784e3b044c9dbb455f7bda482c65",
       "version_major": 2,
       "version_minor": 0
      },
      "text/plain": [
       "interactive(children=(IntSlider(value=0, description='Time Step', max=30), Output()), _dom_classes=('widget-in…"
      ]
     },
     "metadata": {},
     "output_type": "display_data"
    }
   ],
   "source": [
    "interactive_plot(x, rho_hist_qu)"
   ]
  },
  {
   "cell_type": "code",
   "execution_count": 89,
   "metadata": {},
   "outputs": [],
   "source": [
    "def lax_friedrichs(rho0, nt, dt, dx, flux, *args):\n",
    "    \"\"\"Compute traffic density using the lax_friedrichs method\"\"\"\n",
    "    rho_hist = [rho0.copy()]\n",
    "    rho = rho0.copy()\n",
    "    for n in range(nt):\n",
    "        F = flux(rho, *args)\n",
    "        rho[1:-1] = (0.5 * (rho[2:] + rho[:-2]) - \n",
    "        0.5 * dt / dx * (F[2:] - F[:-2]))\n",
    "        rho_hist.append(rho.copy())\n",
    "    \n",
    "    return rho_hist"
   ]
  },
  {
   "cell_type": "code",
   "execution_count": 90,
   "metadata": {},
   "outputs": [
    {
     "name": "stderr",
     "output_type": "stream",
     "text": [
      "C:\\Users\\bghanman\\Anaconda3\\lib\\site-packages\\ipykernel_launcher.py:4: RuntimeWarning: overflow encountered in square\n",
      "  after removing the cwd from sys.path.\n",
      "C:\\Users\\bghanman\\Anaconda3\\lib\\site-packages\\ipykernel_launcher.py:7: RuntimeWarning: invalid value encountered in add\n",
      "  import sys\n"
     ]
    }
   ],
   "source": [
    "#passing required arguments for the better model\n",
    "rho_hist_lf = lax_friedrichs(rho0, nt, dt, dx, flux_bm,\n",
    "                             u_max, A_val, B_val)\n",
    "rho_hist_lf_qu = lax_friedrichs(rho0, nt, dt, dx, flux_qu,\n",
    "                             rho_max, u_max)"
   ]
  },
  {
   "cell_type": "code",
   "execution_count": 92,
   "metadata": {},
   "outputs": [
    {
     "data": {
      "application/vnd.jupyter.widget-view+json": {
       "model_id": "7299c1902f3d4416bdf8cf0491d0e160",
       "version_major": 2,
       "version_minor": 0
      },
      "text/plain": [
       "interactive(children=(IntSlider(value=0, description='Time Step', max=30), Output()), _dom_classes=('widget-in…"
      ]
     },
     "metadata": {},
     "output_type": "display_data"
    }
   ],
   "source": [
    "interactive_plot(x, rho_hist_lf)"
   ]
  },
  {
   "cell_type": "code",
   "execution_count": 91,
   "metadata": {
    "scrolled": true
   },
   "outputs": [
    {
     "data": {
      "application/vnd.jupyter.widget-view+json": {
       "model_id": "e6758c6acf7c43a2ac39589c7078aaea",
       "version_major": 2,
       "version_minor": 0
      },
      "text/plain": [
       "interactive(children=(IntSlider(value=0, description='Time Step', max=30), Output()), _dom_classes=('widget-in…"
      ]
     },
     "metadata": {},
     "output_type": "display_data"
    }
   ],
   "source": [
    "interactive_plot(x, rho_hist_lf_qu)"
   ]
  },
  {
   "cell_type": "code",
   "execution_count": null,
   "metadata": {},
   "outputs": [],
   "source": []
  }
 ],
 "metadata": {
  "kernelspec": {
   "display_name": "Python 3",
   "language": "python",
   "name": "python3"
  },
  "language_info": {
   "codemirror_mode": {
    "name": "ipython",
    "version": 3
   },
   "file_extension": ".py",
   "mimetype": "text/x-python",
   "name": "python",
   "nbconvert_exporter": "python",
   "pygments_lexer": "ipython3",
   "version": "3.7.3"
  }
 },
 "nbformat": 4,
 "nbformat_minor": 2
}
