{
 "cells": [
  {
   "cell_type": "markdown",
   "metadata": {},
   "source": [
    "# 1D Diffusion In Class Practice"
   ]
  },
  {
   "cell_type": "code",
   "execution_count": 51,
   "metadata": {},
   "outputs": [],
   "source": [
    "import numpy\n",
    "from matplotlib import pyplot\n",
    "\n",
    "%matplotlib inline"
   ]
  },
  {
   "cell_type": "code",
   "execution_count": 98,
   "metadata": {},
   "outputs": [],
   "source": [
    "# Set parameters\n",
    "nx = 41 #spatial grid points\n",
    "L = 2.0 #length of domain\n",
    "dx = L/ (nx - 1) #spatial grid size\n",
    "nu = 0.3 #viscosity\n",
    "sigma = 0.2 #CFL stability limit\n",
    "dt = sigma * dx**2/nu #time step size for a stable solution\n",
    "nt = 20 #number of time steps\n",
    "\n",
    "# Get grid coordinates\n",
    "x = numpy.linspace(0.0, L, num = nx)\n",
    "\n",
    "# Set those initial conditions bruh\n",
    "u0 = numpy.ones(nx)\n",
    "mask = numpy.where((x >= 0.5) & (x <= 1.0)) #u square wave is 2.0 between x is 0.5 and 1.0\n",
    "u0[mask] = 2.0"
   ]
  },
  {
   "cell_type": "code",
   "execution_count": 99,
   "metadata": {},
   "outputs": [],
   "source": [
    "#Alternate solution scheme\n",
    "\n",
    "u = u0.copy()\n",
    "for n in range(nt):\n",
    "    un = u.copy()\n",
    "    for i in range(1, nx - 1):\n",
    "        u[i] = un[i] + sigma * (un[i+1] - 2*un[i] + un[i-1])\n",
    "    \n",
    "u_naive = u"
   ]
  },
  {
   "cell_type": "code",
   "execution_count": 100,
   "metadata": {},
   "outputs": [],
   "source": [
    "# Integrate in time using the second order discretization scheme\n",
    "\n",
    "u = u0.copy()\n",
    "for n in range(nt): \n",
    "    un = u.copy()\n",
    "    u[1:-1] = un[1:-1] + sigma * (un[2:] - 2*un[1:-1] + un[:-2])\n",
    "    \n",
    "u_sophis = u"
   ]
  },
  {
   "cell_type": "code",
   "execution_count": 101,
   "metadata": {},
   "outputs": [
    {
     "name": "stdout",
     "output_type": "stream",
     "text": [
      "True\n",
      "True\n"
     ]
    }
   ],
   "source": [
    "b1 = numpy.allclose(u_naive, u_sophis)\n",
    "b2 = numpy.array_equal(u_naive, u_sophis)\n",
    "print(b1)\n",
    "print(b2)"
   ]
  },
  {
   "cell_type": "markdown",
   "metadata": {},
   "source": [
    "# Animations!!"
   ]
  },
  {
   "cell_type": "code",
   "execution_count": 102,
   "metadata": {},
   "outputs": [],
   "source": [
    "from matplotlib import animation\n",
    "from IPython.display import HTML"
   ]
  },
  {
   "cell_type": "code",
   "execution_count": 103,
   "metadata": {},
   "outputs": [],
   "source": [
    "def diffusion(u0, sigma = 0.5, nt = 20):\n",
    "    \"\"\" Computes the numerical solution of the 1D diff. eq. over the input time steps\"\"\"\n",
    "    u_hist = [u0.copy()] #list of arrays- history of u\n",
    "    u = u0.copy()\n",
    "    for n in range(nt): \n",
    "        un = u.copy()\n",
    "        u[1:-1] = un[1:-1] + sigma * (un[2:] - 2*un[1:-1] + un[:-2])\n",
    "        u_hist.append(u.copy())\n",
    "    return u_hist\n",
    "    "
   ]
  },
  {
   "cell_type": "code",
   "execution_count": 104,
   "metadata": {},
   "outputs": [],
   "source": [
    "# Computes the history of the numerical solution over time\n",
    "u_hist = diffusion(u0, sigma = sigma, nt = nt)"
   ]
  },
  {
   "cell_type": "code",
   "execution_count": 105,
   "metadata": {},
   "outputs": [
    {
     "data": {
      "text/plain": [
       "21"
      ]
     },
     "execution_count": 105,
     "metadata": {},
     "output_type": "execute_result"
    }
   ],
   "source": [
    "len(u_hist) #initial condition + 20 computed time steps"
   ]
  },
  {
   "cell_type": "code",
   "execution_count": 106,
   "metadata": {},
   "outputs": [],
   "source": [
    "def plot_solution(nt, u_hist, x):\n",
    "    pyplot.figure()\n",
    "    pyplot.xlabel('x')\n",
    "    pyplot.ylabel('y')\n",
    "    pyplot.grid()\n",
    "    pyplot.plot(x, u_hist[0], label = 'Initial')\n",
    "    pyplot.plot(x, u_hist[nt], label = 'Current')\n",
    "    pyplot.legend()\n",
    "    pyplot.xlim(0.0, L)\n",
    "    pyplot.ylim(0.5, 2.5)\n",
    "    pyplot.show()"
   ]
  },
  {
   "cell_type": "code",
   "execution_count": 107,
   "metadata": {},
   "outputs": [
    {
     "data": {
      "image/png": "[encoded data removed]",
      "text/plain": [
       "<Figure size 432x288 with 1 Axes>"
      ]
     },
     "metadata": {
      "needs_background": "light"
     },
     "output_type": "display_data"
    }
   ],
   "source": [
    "plot_solution(0, u_hist, x)"
   ]
  },
  {
   "cell_type": "code",
   "execution_count": 108,
   "metadata": {},
   "outputs": [
    {
     "data": {
      "image/png": "[encoded data removed]",
      "text/plain": [
       "<Figure size 432x288 with 1 Axes>"
      ]
     },
     "metadata": {
      "needs_background": "light"
     },
     "output_type": "display_data"
    }
   ],
   "source": [
    "plot_solution(nt, u_hist, x)"
   ]
  },
  {
   "cell_type": "code",
   "execution_count": 109,
   "metadata": {},
   "outputs": [],
   "source": [
    "import ipywidgets"
   ]
  },
  {
   "cell_type": "code",
   "execution_count": 110,
   "metadata": {},
   "outputs": [],
   "source": [
    "nt_slider = ipywidgets.IntSlider(value=0, min=0, max=nt, step=1,\n",
    "                                description='Time Step')\n",
    "w = ipywidgets.interactive(plot_solution, nt=nt_slider, \n",
    "                           u_hist=ipywidgets.fixed(u_hist), \n",
    "                           x=ipywidgets.fixed(x))\n"
   ]
  },
  {
   "cell_type": "code",
   "execution_count": 111,
   "metadata": {},
   "outputs": [
    {
     "data": {
      "application/vnd.jupyter.widget-view+json": {
       "model_id": "76844cefde034d978c935d0e1262ea8c",
       "version_major": 2,
       "version_minor": 0
      },
      "text/plain": [
       "interactive(children=(IntSlider(value=0, description='Time Step', max=20), Output()), _dom_classes=('widget-in…"
      ]
     },
     "metadata": {},
     "output_type": "display_data"
    }
   ],
   "source": [
    "w"
   ]
  },
  {
   "cell_type": "code",
   "execution_count": null,
   "metadata": {},
   "outputs": [],
   "source": []
  }
 ],
 "metadata": {
  "kernelspec": {
   "display_name": "Python 3",
   "language": "python",
   "name": "python3"
  },
  "language_info": {
   "codemirror_mode": {
    "name": "ipython",
    "version": 3
   },
   "file_extension": ".py",
   "mimetype": "text/x-python",
   "name": "python",
   "nbconvert_exporter": "python",
   "pygments_lexer": "ipython3",
   "version": "3.7.3"
  }
 },
 "nbformat": 4,
 "nbformat_minor": 2
}
