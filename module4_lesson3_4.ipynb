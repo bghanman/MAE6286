{
 "cells": [
  {
   "cell_type": "markdown",
   "metadata": {},
   "source": [
    "# 2D Heat Diffusion (explicit)"
   ]
  },
  {
   "cell_type": "code",
   "execution_count": 4,
   "metadata": {},
   "outputs": [],
   "source": [
    "import numpy\n",
    "from matplotlib import pyplot\n",
    "%matplotlib inline"
   ]
  },
  {
   "cell_type": "code",
   "execution_count": 25,
   "metadata": {},
   "outputs": [],
   "source": [
    "#Set some parameters\n",
    "L = 0.01 #length of domain\n",
    "nx, ny = 21, 21 #number of points in x and y directions\n",
    "alpha = 1e-4\n",
    "dx = L / (nx - 1) #grid size in x\n",
    "dy = L / (ny - 1) #grid size in y\n",
    "\n",
    "\n",
    "#Set up grid\n",
    "x = numpy.linspace(0, L, num=nx)\n",
    "y = numpy.linspace(0, L, num=ny)\n",
    "\n",
    "#Initial Conditions - Neumann at boundary = 0\n",
    "T0 = numpy.full((ny, nx), 20.0)\n",
    "T0[:, 0] = 100.0 #left boundary\n",
    "T0[0, :] = 100.0 #bottom boundary - I believe button vice [-1, :]"
   ]
  },
  {
   "cell_type": "code",
   "execution_count": 64,
   "metadata": {},
   "outputs": [],
   "source": [
    "#Define FTCS function\n",
    "def ftcs(T0, nt, dt, dx, dy, alpha, qx=0.0, qy=0.0):\n",
    "    \"\"\"Compute forward time, central space in 2D\"\"\"\n",
    "    \n",
    "    T = T0.copy() #deep copy of initial matrix\n",
    "    sigma_x = alpha * dt / dx**2\n",
    "    sigma_y = alpha * dt / dy**2 \n",
    "    \n",
    "    #Solve for the center of the domain\n",
    "    ny, nx = T.shape\n",
    "    I, J = nx // 2, ny // 2 #determine center coordinates, double slash equivalent to int()\n",
    "    \n",
    "    for n in range(nt):\n",
    "        T[1:-1, 1:-1] = (T[1:-1, 1:-1] + \n",
    "                         sigma_x * (T[1:-1, :-2] - 2 * T[1:-1, 1:-1] + T[1:-1, 2:]) + \n",
    "                         sigma_y * (T[:-2, 1:-1] - 2 * T[1:-1, 1:-1] + T[2:, 1:-1]))\n",
    "        #Dirichlet Boundary Condition at Bottom and Left - Optional, just included for completeness\n",
    "        T[:, 0] = 100.0 \n",
    "        T[0, :] = 100.0 \n",
    "        #Neumann Boundary Condition at Top and Right\n",
    "        T[:, -1] = T[:, -2] + qx / dx\n",
    "        T[-1, :] = T[-2, :] + qy / dy\n",
    "        #Check center position for initial condition\n",
    "        if T[J, I] >= 70.0:\n",
    "            break #get out of for loop once initial condition is met\n",
    "    print('Number of time steps was' , n + 1, 'to get a center temperature of', T[J, I])\n",
    "        \n",
    "    return T"
   ]
  },
  {
   "cell_type": "code",
   "execution_count": 65,
   "metadata": {},
   "outputs": [
    {
     "name": "stdout",
     "output_type": "stream",
     "text": [
      "Number of time steps was 256 to get a center temperature of 70.02138294076661\n"
     ]
    },
    {
     "data": {
      "text/plain": [
       "70.02138294076661"
      ]
     },
     "execution_count": 65,
     "metadata": {},
     "output_type": "execute_result"
    }
   ],
   "source": [
    "#Solving until the center of the chip reaches 70 degrees T[10, 10]\n",
    "sigma = 0.25\n",
    "#As dx = dy, solving for dt is more simple\n",
    "#dt = dx**2 * sigma / alpha\n",
    "dt = min(dx, dy)**2 * sigma / alpha\n",
    "#t = 0.159 #iterative solving - guess and check during class, nt ~ 254\n",
    "#Using the newly deveoped function with the if check\n",
    "nt = 500\n",
    "T = ftcs(T0, nt, dt, dx, dy, alpha)\n",
    "T[10, 10]"
   ]
  },
  {
   "cell_type": "code",
   "execution_count": 75,
   "metadata": {},
   "outputs": [
    {
     "data": {
      "image/png": "[encoded data removed]",
      "text/plain": [
       "<Figure size 576x360 with 2 Axes>"
      ]
     },
     "metadata": {
      "needs_background": "light"
     },
     "output_type": "display_data"
    }
   ],
   "source": [
    "#Creating a 2d contour of the temperature\n",
    "pyplot.figure(figsize = (8.0, 5.0))\n",
    "pyplot.xlabel('x [cm]')\n",
    "pyplot.ylabel('y [cm]')\n",
    "contf = pyplot.contourf(x * 100, y * 100, T, cmap = 'inferno') #converting m to cm\n",
    "cbar = pyplot.colorbar(contf)\n",
    "cbar.set_label('Temperature [C]');"
   ]
  },
  {
   "cell_type": "markdown",
   "metadata": {},
   "source": [
    "# Solve Using Implicit Method"
   ]
  },
  {
   "cell_type": "code",
   "execution_count": 76,
   "metadata": {},
   "outputs": [],
   "source": [
    "def btcs(T0, nt, dt, delta, alpha):\n",
    "    \"\"\"Solve 2D diffusion (BTCS) given initial 2D field.\"\"\"\n",
    "    sigma = alpha * dt / delta**2\n",
    "    # create LHS operator\n",
    "    A = lhs_operator()\n",
    "    T = map_2d_to_1d(T0)\n",
    "    \n",
    "    #Integrate in time\n",
    "    for n in range(nt):\n",
    "        b = rhs_vector()\n",
    "        T = numpy.linalg.solve(A,b)\n",
    "    \n",
    "    return map_2d_to_1d(T)"
   ]
  },
  {
   "cell_type": "code",
   "execution_count": null,
   "metadata": {},
   "outputs": [],
   "source": [
    "def lhs_operators(M, N):\n",
    "    A = numpy.zeros((M * N, M * N))\n",
    "    for j in range(N):\n",
    "        for i in range(M):\n",
    "            I = j * M + i\n",
    "            west = I - 1\n",
    "            east = I + 1\n",
    "            south = I - m\n",
    "            north = I + M\n",
    "            if i == 0 and j == 0: #bottom left hand corner\n",
    "                A[I, I] = 1 / sigma + 4\n",
    "                A[I, east] = -1.0\n",
    "                A[I, north] = -1.0\n",
    "            elif i == M - 1 and j == 0: #bottom right hand corner\n",
    "                A[I, I] = 1 / sigma + 3\n",
    "                A[I, west] = -1.0\n",
    "                A[I, north] = -1.0\n",
    "            elif i == 0 and j == N -1: #top left hand corner\n",
    "                A[I, I] = 1 / sigma + 3\n",
    "                A[I, east] = -1.0\n",
    "                A[I, south] = -1.0\n",
    "            elif i == M - 1 and j == N - 1: #top right hand corner\n",
    "                A[I, I] = 1 / sigma + 2\n",
    "                A[I, west] = -1.0\n",
    "                A[I, south] = -1.0\n",
    "            elif j == 0: #first row of all points\n",
    "                A[I, I] = 1 / sigma + 4\n",
    "                A[I, west] = -1.0\n",
    "                A[I, east] = -1.0\n",
    "                A[I, north] = -1.0\n",
    "            elif j == N - 1: #last row of interior points\n",
    "                A[I, I] = 1 / sigma + 3\n",
    "                A[I, west] = -1.0\n",
    "                A[I, south] = -1.0\n",
    "                A[I, east] = -1.0\n",
    "            elif i == 0: #first column of interior points\n",
    "                pass\n",
    "            elif i == M - 1: #last column of interior points\n",
    "                pass\n",
    "            else: #is it an interior point with no boundary neighbors\n",
    "                A[I, I] = 1 / sigma + 4\n",
    "                A[I, south] = -1.0\n",
    "                A[I, west] = -1.0\n",
    "                A[I, east] = -1.0\n",
    "                A[I, north] = -1.0\n",
    "                \n",
    "            return A\n",
    "            "
   ]
  }
 ],
 "metadata": {
  "kernelspec": {
   "display_name": "Python 3",
   "language": "python",
   "name": "python3"
  },
  "language_info": {
   "codemirror_mode": {
    "name": "ipython",
    "version": 3
   },
   "file_extension": ".py",
   "mimetype": "text/x-python",
   "name": "python",
   "nbconvert_exporter": "python",
   "pygments_lexer": "ipython3",
   "version": "3.7.3"
  }
 },
 "nbformat": 4,
 "nbformat_minor": 2
}
